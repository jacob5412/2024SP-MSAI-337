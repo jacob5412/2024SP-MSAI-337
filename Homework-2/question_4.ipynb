{
 "cells": [
  {
   "cell_type": "markdown",
   "id": "0385792b-c55d-4bfe-ba5c-2742f67b2053",
   "metadata": {},
   "source": [
    "# Question 4: Eliminating Residual Connections"
   ]
  },
  {
   "cell_type": "code",
   "execution_count": 1,
   "id": "fa4a4d68-5b42-4fe0-8006-7e0c7f810a15",
   "metadata": {},
   "outputs": [],
   "source": [
    "import time\n",
    "\n",
    "import numpy as np\n",
    "import torch\n",
    "import torch.nn as nn\n",
    "import torch.nn.functional as F\n",
    "import torchtext.data as data\n",
    "from models.attention import MultiHeadAttention\n",
    "from models.embedder import Embedder, FeedForward, Norm, PositionalEncoder, get_clones\n",
    "from transformers import GPT2Tokenizer"
   ]
  },
  {
   "cell_type": "code",
   "execution_count": 2,
   "id": "a01dae61-429f-4f97-bf53-7bd920faa875",
   "metadata": {},
   "outputs": [
    {
     "name": "stdout",
     "output_type": "stream",
     "text": [
      "cuda\n"
     ]
    }
   ],
   "source": [
    "DEVICE = torch.device(\"cuda\" if torch.cuda.is_available() else \"cpu\")\n",
    "print(DEVICE)"
   ]
  },
  {
   "cell_type": "markdown",
   "id": "86df5176-9027-4f32-a095-c9cf374eea42",
   "metadata": {},
   "source": [
    "## Decoder"
   ]
  },
  {
   "cell_type": "code",
   "execution_count": 3,
   "id": "5104169e-9892-46e8-a62b-5ef1bab5e20f",
   "metadata": {},
   "outputs": [],
   "source": [
    "class DecoderLayer(nn.Module):\n",
    "    def __init__(self, d_model, heads, dropout=0.1):\n",
    "        super().__init__()\n",
    "        self.norm_1 = Norm(d_model)\n",
    "        self.dropout_1 = nn.Dropout(dropout)\n",
    "        self.attn_1 = MultiHeadAttention(heads, d_model, dropout=dropout)\n",
    "        self.ff = FeedForward(d_model, dropout=dropout)\n",
    "        self.norm_2 = Norm(d_model)\n",
    "        self.dropout_2 = nn.Dropout(dropout)\n",
    "\n",
    "    def forward(self, x, trg_mask):\n",
    "        x2 = self.norm_1(x)\n",
    "        x = x + self.dropout_1(self.attn_1(x2, x2, x2, trg_mask))\n",
    "        x2 = self.norm_2(x)\n",
    "        x = self.dropout_2(self.ff(x2))  # No residual connection\n",
    "        return x"
   ]
  },
  {
   "cell_type": "code",
   "execution_count": 4,
   "id": "3c29c7b6-9ede-4de2-92bf-01b772a7c045",
   "metadata": {},
   "outputs": [],
   "source": [
    "class Decoder(nn.Module):\n",
    "    def __init__(self, vocab_size, d_model, N, heads, dropout):\n",
    "        super().__init__()\n",
    "        self.embed = Embedder(vocab_size, d_model)\n",
    "        self.pe = PositionalEncoder(d_model, dropout=dropout)\n",
    "        self.layers = get_clones(DecoderLayer(d_model, heads, dropout), N)\n",
    "        self.norm = Norm(d_model)\n",
    "\n",
    "    def forward(self, trg, trg_mask):\n",
    "        x = self.embed(trg)\n",
    "        x = self.pe(x)\n",
    "        for layer in self.layers:\n",
    "            x = layer(x, trg_mask)\n",
    "        return self.norm(x)"
   ]
  },
  {
   "cell_type": "markdown",
   "id": "185e24f7-c328-47a5-b169-c7a6c9310e3e",
   "metadata": {},
   "source": [
    "## Transformer"
   ]
  },
  {
   "cell_type": "code",
   "execution_count": 5,
   "id": "a76eedc1-1510-4165-8dd0-b55df5b7805e",
   "metadata": {},
   "outputs": [],
   "source": [
    "class Transformer(nn.Module):\n",
    "    def __init__(self, vocab_size, d_model, N, heads, dropout, device):\n",
    "        super().__init__()\n",
    "        self.device = device\n",
    "        self.vocab_size = vocab_size\n",
    "        self.decoder = Decoder(vocab_size, d_model, N, heads, dropout)\n",
    "\n",
    "    def forward(self, trg, trg_mask):\n",
    "        d_output = self.decoder(trg, trg_mask)\n",
    "        output = torch.matmul(d_output, self.decoder.embed.embed.weight.t())\n",
    "        return output"
   ]
  },
  {
   "cell_type": "markdown",
   "id": "2e9ab07d-4c13-4869-b51e-45951d93f764",
   "metadata": {},
   "source": [
    "## No-Peak Mask"
   ]
  },
  {
   "cell_type": "code",
   "execution_count": 6,
   "id": "e5209633-9eb5-49bf-bdac-3b1d2fc69593",
   "metadata": {},
   "outputs": [],
   "source": [
    "def nopeak_mask(size, device):\n",
    "    np_mask = ~torch.triu(torch.ones((1, size, size), device=device), diagonal=1).bool()\n",
    "    return np_mask"
   ]
  },
  {
   "cell_type": "markdown",
   "id": "eae92f31-78aa-4ccc-9002-bb588cb0f656",
   "metadata": {},
   "source": [
    "## Data Feeder\n",
    "\n",
    "### Tokenizer"
   ]
  },
  {
   "cell_type": "code",
   "execution_count": 7,
   "id": "39d4a125-4183-4c80-9ea4-65cf66a42a8c",
   "metadata": {},
   "outputs": [],
   "source": [
    "TOKENIZER = GPT2Tokenizer.from_pretrained(\"gpt2\")"
   ]
  },
  {
   "cell_type": "code",
   "execution_count": 8,
   "id": "4f318f68-eacb-48a9-beb0-6574b64b00cc",
   "metadata": {},
   "outputs": [
    {
     "data": {
      "text/plain": [
       "(50257, 50258, 50259)"
      ]
     },
     "execution_count": 8,
     "metadata": {},
     "output_type": "execute_result"
    }
   ],
   "source": [
    "TOKENIZER.add_special_tokens(\n",
    "    {\"pad_token\": \"[PAD]\", \"bos_token\": \"<sos>\", \"eos_token\": \"<eos>\"}\n",
    ")\n",
    "TOKENIZER.pad_token_id, TOKENIZER.bos_token_id, TOKENIZER.eos_token_id"
   ]
  },
  {
   "cell_type": "markdown",
   "id": "50331e86-bb76-4d2f-9af4-99cf1399eb32",
   "metadata": {},
   "source": [
    "### Tokenization"
   ]
  },
  {
   "cell_type": "code",
   "execution_count": 9,
   "id": "64aef928-6bf9-44a9-8f3e-b29fc6900a2c",
   "metadata": {},
   "outputs": [],
   "source": [
    "def load_and_tokenize_file(file_path, tokenizer):\n",
    "    with open(file_path, \"r\", encoding=\"utf-8\") as file:\n",
    "        lines = [line.strip() for line in file if line.strip()]\n",
    "\n",
    "    # Tokenize each line with special tokens and store tokens\n",
    "    all_token_ids = []\n",
    "    for line in lines:\n",
    "        modified_line = f\"<sos> {line} <eos>\"  # Add special tokens\n",
    "        tokens = tokenizer.tokenize(modified_line)\n",
    "        token_ids = tokenizer.convert_tokens_to_ids(tokens)\n",
    "        all_token_ids.extend(token_ids)\n",
    "\n",
    "    return all_token_ids"
   ]
  },
  {
   "cell_type": "markdown",
   "id": "62f14def-278a-4988-8a0a-e310fb573f49",
   "metadata": {},
   "source": [
    "### Batching and Creating Sequences"
   ]
  },
  {
   "cell_type": "code",
   "execution_count": 10,
   "id": "dd89c785-2df0-440a-843f-47fa0102d9a1",
   "metadata": {},
   "outputs": [],
   "source": [
    "class BatchGenerator:\n",
    "    def __init__(self, data, seq_len=512, batch_size=32, pad_token_id=0):\n",
    "        self.data = data\n",
    "        self.seq_len = seq_len\n",
    "        self.batch_size = batch_size\n",
    "        self.pad_token_id = pad_token_id\n",
    "        self.total_data_len = len(data)\n",
    "        self.steps_per_epoch = (\n",
    "            self.total_data_len + self.batch_size * self.seq_len - 1\n",
    "        ) // (self.seq_len * self.batch_size)\n",
    "\n",
    "    def generate(self):\n",
    "        start_index = 0\n",
    "        while True:\n",
    "            # Calculate the end index of the batch\n",
    "            end_index = start_index + self.batch_size * self.seq_len\n",
    "            if end_index > self.total_data_len:\n",
    "                # Handle end of array with padding if not enough data to complete the batch\n",
    "                residual_data = self.data[start_index : self.total_data_len]\n",
    "                padding_needed = end_index - self.total_data_len\n",
    "                padded_data = np.full(padding_needed, self.pad_token_id, dtype=int)\n",
    "                batch_data = np.concatenate((residual_data, padded_data))\n",
    "                start_index = (\n",
    "                    self.total_data_len\n",
    "                )  # Set start_index to total_data_len to end generation\n",
    "            else:\n",
    "                batch_data = self.data[start_index:end_index]\n",
    "                start_index += self.batch_size * self.seq_len\n",
    "\n",
    "            # Reshape batch data to the required dimensions\n",
    "            batch_data = np.array(batch_data).reshape(self.batch_size, self.seq_len)\n",
    "            yield batch_data\n",
    "\n",
    "            if start_index >= self.total_data_len:\n",
    "                break"
   ]
  },
  {
   "cell_type": "markdown",
   "id": "52494baa-1e35-47b1-86d7-02d431a2ae43",
   "metadata": {},
   "source": [
    "## Training"
   ]
  },
  {
   "cell_type": "code",
   "execution_count": 11,
   "id": "16d5ec96-72b8-49d6-976d-4e937fc6fc45",
   "metadata": {},
   "outputs": [],
   "source": [
    "def get_model(vocab_size, d_model=512, N=6, heads=8, dropout=0.1, device=\"cpu\"):\n",
    "    model = Transformer(vocab_size, d_model, N, heads, dropout, device)\n",
    "    model.to(device)\n",
    "    return model"
   ]
  },
  {
   "cell_type": "code",
   "execution_count": 12,
   "id": "38902298-10af-4369-8403-cee5d6e38177",
   "metadata": {},
   "outputs": [],
   "source": [
    "def train_model(\n",
    "    model, train_generator, valid_generator, optimizer, device, epochs, print_every=50\n",
    "):\n",
    "    train_losses = []\n",
    "    train_perplexities = []\n",
    "    valid_losses = []\n",
    "    valid_perplexities = []\n",
    "\n",
    "    for epoch in range(epochs):\n",
    "        # Training Phase\n",
    "        model.train()\n",
    "        total_train_loss = 0\n",
    "        intermediate_train_loss = 0\n",
    "        start = time.time()\n",
    "\n",
    "        # Adjust to use the generator\n",
    "        for i, batch in enumerate(train_generator.generate()):\n",
    "            batch_tensor = torch.tensor(batch).to(device)\n",
    "            no_peak_mask = nopeak_mask(batch_tensor.size(1), device)\n",
    "\n",
    "            # https://github.com/SamLynnEvans/Transformer/blob/master/Batch.py#L20\n",
    "            preds = model(batch_tensor, no_peak_mask)\n",
    "            preds = preds[:, :-1, :]  # Exclude the last time step predictions\n",
    "            ys = (\n",
    "                batch_tensor[:, 1:].contiguous().view(-1)\n",
    "            )  # Targets shifted by one position\n",
    "\n",
    "            optimizer.zero_grad()\n",
    "            loss = F.cross_entropy(\n",
    "                preds.reshape(-1, preds.size(-1)),\n",
    "                ys,\n",
    "                ignore_index=TOKENIZER.pad_token_id,\n",
    "            )\n",
    "            loss.backward()\n",
    "            optimizer.step()\n",
    "\n",
    "            total_train_loss += loss.item()\n",
    "            intermediate_train_loss += loss.item()\n",
    "\n",
    "            if (i + 1) % print_every == 0:\n",
    "                p = int(100 * (i + 1) / train_generator.steps_per_epoch)\n",
    "                avg_loss = intermediate_train_loss / print_every\n",
    "                print(\n",
    "                    f\"{int((time.time() - start) // 60)}m: epoch {epoch + 1} [{p}%] Train loss = {avg_loss:.3f}\",\n",
    "                    end=\"\\r\",\n",
    "                )\n",
    "                intermediate_train_loss = 0\n",
    "\n",
    "            if (i + 1) == train_generator.steps_per_epoch:\n",
    "                break  # Stop after processing all steps per epoch\n",
    "\n",
    "        avg_train_loss = total_train_loss / train_generator.steps_per_epoch\n",
    "        train_perplexity = torch.exp(torch.tensor(avg_train_loss)).item()\n",
    "        train_losses.append(avg_train_loss)\n",
    "        train_perplexities.append(train_perplexity)\n",
    "\n",
    "        # Validation Phase\n",
    "        model.eval()\n",
    "        total_valid_loss = 0\n",
    "        with torch.no_grad():\n",
    "            for i, batch in enumerate(valid_generator.generate()):\n",
    "                batch_tensor = torch.tensor(batch).to(device)\n",
    "                no_peak_mask = nopeak_mask(batch_tensor.size(1), device)\n",
    "\n",
    "                preds = model(batch_tensor, no_peak_mask)\n",
    "                preds = preds[:, :-1, :]\n",
    "                ys = batch_tensor[:, 1:].contiguous().view(-1)\n",
    "\n",
    "                loss = F.cross_entropy(\n",
    "                    preds.reshape(-1, preds.size(-1)),\n",
    "                    ys,\n",
    "                    ignore_index=TOKENIZER.pad_token_id,\n",
    "                )\n",
    "                total_valid_loss += loss.item()\n",
    "\n",
    "                if (i + 1) == valid_generator.steps_per_epoch:\n",
    "                    break  # Stop after processing all steps per epoch\n",
    "\n",
    "        avg_valid_loss = total_valid_loss / valid_generator.steps_per_epoch\n",
    "        valid_perplexity = torch.exp(torch.tensor(avg_valid_loss)).item()\n",
    "        valid_losses.append(avg_valid_loss)\n",
    "        valid_perplexities.append(valid_perplexity)\n",
    "\n",
    "        print(\n",
    "            f\"Epoch {epoch + 1}: Train loss = {avg_train_loss:.3f}, Train Perplexity = {train_perplexity:.3f}\"\n",
    "        )\n",
    "        print(\n",
    "            f\"Epoch {epoch + 1}: Validation loss = {avg_valid_loss:.3f}, Validation Perplexity = {valid_perplexity:.3f}\"\n",
    "        )\n",
    "\n",
    "    return train_losses, train_perplexities, valid_losses, valid_perplexities"
   ]
  },
  {
   "cell_type": "code",
   "execution_count": 13,
   "id": "03b3ad40-8a11-43eb-9742-0c105f1bdaaa",
   "metadata": {},
   "outputs": [],
   "source": [
    "train_tokens = load_and_tokenize_file(\"data/wiki2.train.txt\", TOKENIZER)\n",
    "train_batch_generator = BatchGenerator(\n",
    "    train_tokens, seq_len=512, batch_size=25, pad_token_id=TOKENIZER.pad_token_id\n",
    ")\n",
    "\n",
    "valid_tokens = load_and_tokenize_file(\"data/wiki2.valid.txt\", TOKENIZER)\n",
    "valid_batch_generator = BatchGenerator(\n",
    "    valid_tokens, seq_len=512, batch_size=25, pad_token_id=TOKENIZER.pad_token_id\n",
    ")"
   ]
  },
  {
   "cell_type": "markdown",
   "id": "9aeaf08a-034a-4bd9-a764-762bc85e51de",
   "metadata": {},
   "source": [
    "We're using the same hyperparameters as earlier as they work well."
   ]
  },
  {
   "cell_type": "code",
   "execution_count": 14,
   "id": "5c00081d-96ee-4586-bdab-e00edba8a391",
   "metadata": {},
   "outputs": [],
   "source": [
    "vocab_size = len(TOKENIZER)\n",
    "model = get_model(vocab_size, d_model=512, N=7, heads=8, dropout=0.05, device=DEVICE)\n",
    "optimizer = torch.optim.Adam(model.parameters(), lr=0.001)"
   ]
  },
  {
   "cell_type": "code",
   "execution_count": 15,
   "id": "49eb2310-55a9-4816-aff7-5b8fcdfb2e34",
   "metadata": {},
   "outputs": [
    {
     "name": "stdout",
     "output_type": "stream",
     "text": [
      "Epoch 1: Train loss = 27.766, Train Perplexity = 1144775507968.000\n",
      "Epoch 1: Validation loss = 9.503, Validation Perplexity = 13403.014\n",
      "Epoch 2: Train loss = 14.926, Train Perplexity = 3034543.250\n",
      "Epoch 2: Validation loss = 7.555, Validation Perplexity = 1909.842\n",
      "Epoch 3: Train loss = 9.635, Train Perplexity = 15293.779\n",
      "Epoch 3: Validation loss = 6.946, Validation Perplexity = 1039.461\n",
      "Epoch 4: Train loss = 7.666, Train Perplexity = 2133.885\n",
      "Epoch 4: Validation loss = 6.801, Validation Perplexity = 898.816\n",
      "Epoch 5: Train loss = 7.416, Train Perplexity = 1662.858\n",
      "Epoch 5: Validation loss = 6.783, Validation Perplexity = 882.919\n",
      "Epoch 6: Train loss = 7.300, Train Perplexity = 1480.173\n",
      "Epoch 6: Validation loss = 6.734, Validation Perplexity = 840.722\n",
      "Epoch 7: Train loss = 7.230, Train Perplexity = 1380.665\n",
      "Epoch 7: Validation loss = 6.729, Validation Perplexity = 836.042\n",
      "Epoch 8: Train loss = 7.188, Train Perplexity = 1322.806\n",
      "Epoch 8: Validation loss = 6.717, Validation Perplexity = 826.599\n",
      "Epoch 9: Train loss = 7.160, Train Perplexity = 1286.526\n",
      "Epoch 9: Validation loss = 6.705, Validation Perplexity = 816.664\n",
      "Epoch 10: Train loss = 7.140, Train Perplexity = 1261.467\n",
      "Epoch 10: Validation loss = 6.696, Validation Perplexity = 809.477\n"
     ]
    }
   ],
   "source": [
    "results = train_model(\n",
    "    model,\n",
    "    train_batch_generator,\n",
    "    valid_batch_generator,\n",
    "    optimizer,\n",
    "    DEVICE,\n",
    "    epochs=10,\n",
    "    print_every=50,\n",
    ")"
   ]
  },
  {
   "cell_type": "markdown",
   "id": "f6fc2043-59b7-4ca7-a916-55a2abb9c8ee",
   "metadata": {},
   "source": [
    "```python\n",
    "Epoch 1: Train loss = 27.766, Train Perplexity = 1144775507968.000\n",
    "Epoch 1: Validation loss = 9.503, Validation Perplexity = 13403.014\n",
    "Epoch 2: Train loss = 14.926, Train Perplexity = 3034543.250\n",
    "Epoch 2: Validation loss = 7.555, Validation Perplexity = 1909.842\n",
    "Epoch 3: Train loss = 9.635, Train Perplexity = 15293.779\n",
    "Epoch 3: Validation loss = 6.946, Validation Perplexity = 1039.461\n",
    "Epoch 4: Train loss = 7.666, Train Perplexity = 2133.885\n",
    "Epoch 4: Validation loss = 6.801, Validation Perplexity = 898.816\n",
    "Epoch 5: Train loss = 7.416, Train Perplexity = 1662.858\n",
    "Epoch 5: Validation loss = 6.783, Validation Perplexity = 882.919\n",
    "Epoch 6: Train loss = 7.300, Train Perplexity = 1480.173\n",
    "Epoch 6: Validation loss = 6.734, Validation Perplexity = 840.722\n",
    "Epoch 7: Train loss = 7.230, Train Perplexity = 1380.665\n",
    "Epoch 7: Validation loss = 6.729, Validation Perplexity = 836.042\n",
    "Epoch 8: Train loss = 7.188, Train Perplexity = 1322.806\n",
    "Epoch 8: Validation loss = 6.717, Validation Perplexity = 826.599\n",
    "Epoch 9: Train loss = 7.160, Train Perplexity = 1286.526\n",
    "Epoch 9: Validation loss = 6.705, Validation Perplexity = 816.664\n",
    "Epoch 10: Train loss = 7.140, Train Perplexity = 1261.467\n",
    "Epoch 10: Validation loss = 6.696, Validation Perplexity = 809.477\n",
    "```"
   ]
  },
  {
   "cell_type": "code",
   "execution_count": 16,
   "id": "df66c211-9238-4f24-b1ae-8225784288e1",
   "metadata": {},
   "outputs": [],
   "source": [
    "train_losses, train_perplexities, valid_losses, valid_perplexities = results"
   ]
  },
  {
   "cell_type": "markdown",
   "id": "d1230dbf-4c60-45e4-98e5-5ee8b15ff35f",
   "metadata": {},
   "source": [
    "### Training Results"
   ]
  },
  {
   "cell_type": "code",
   "execution_count": 17,
   "id": "075a4185-04c1-40d3-b1b8-dd047486178a",
   "metadata": {},
   "outputs": [],
   "source": [
    "import matplotlib.pyplot as plt\n",
    "import pandas as pd\n",
    "import seaborn as sns"
   ]
  },
  {
   "cell_type": "code",
   "execution_count": 18,
   "id": "f3499d23-99ed-413a-9577-28b74e420829",
   "metadata": {},
   "outputs": [],
   "source": [
    "epochs = list(range(1, len(train_losses) + 1))\n",
    "train_data = pd.DataFrame(\n",
    "    {\n",
    "        \"Epoch\": epochs,\n",
    "        \"Train Loss\": train_losses,\n",
    "        \"Train Perplexity\": train_perplexities,\n",
    "    }\n",
    ")\n",
    "\n",
    "valid_data = pd.DataFrame(\n",
    "    {\n",
    "        \"Epoch\": epochs,\n",
    "        \"Validation Loss\": valid_losses,\n",
    "        \"Validation Perplexity\": valid_perplexities,\n",
    "    }\n",
    ")"
   ]
  },
  {
   "cell_type": "code",
   "execution_count": 19,
   "id": "0ce8ccfd-b606-4075-9c69-44802e7eaaeb",
   "metadata": {},
   "outputs": [
    {
     "name": "stderr",
     "output_type": "stream",
     "text": [
      "/home/ubuntu/venv/lib/python3.10/site-packages/seaborn/_oldcore.py:1119: FutureWarning: use_inf_as_na option is deprecated and will be removed in a future version. Convert inf values to NaN before operating instead.\n",
      "  with pd.option_context('mode.use_inf_as_na', True):\n",
      "/home/ubuntu/venv/lib/python3.10/site-packages/seaborn/_oldcore.py:1119: FutureWarning: use_inf_as_na option is deprecated and will be removed in a future version. Convert inf values to NaN before operating instead.\n",
      "  with pd.option_context('mode.use_inf_as_na', True):\n"
     ]
    },
    {
     "data": {
      "image/png": "[encoded data removed]",
      "text/plain": [
       "<Figure size 1200x600 with 1 Axes>"
      ]
     },
     "metadata": {},
     "output_type": "display_data"
    }
   ],
   "source": [
    "plt.figure(figsize=(12, 6))\n",
    "sns.lineplot(data=train_data, x=\"Epoch\", y=\"Train Loss\")\n",
    "plt.title(\"Training Loss Over Epochs\")\n",
    "plt.xlabel(\"Epoch\")\n",
    "plt.ylabel(\"Loss\")\n",
    "plt.grid(True)\n",
    "plt.show()"
   ]
  },
  {
   "cell_type": "code",
   "execution_count": 20,
   "id": "f7845ed3-940e-41fe-9c28-5db33a387bb6",
   "metadata": {},
   "outputs": [
    {
     "name": "stderr",
     "output_type": "stream",
     "text": [
      "/home/ubuntu/venv/lib/python3.10/site-packages/seaborn/_oldcore.py:1119: FutureWarning: use_inf_as_na option is deprecated and will be removed in a future version. Convert inf values to NaN before operating instead.\n",
      "  with pd.option_context('mode.use_inf_as_na', True):\n",
      "/home/ubuntu/venv/lib/python3.10/site-packages/seaborn/_oldcore.py:1119: FutureWarning: use_inf_as_na option is deprecated and will be removed in a future version. Convert inf values to NaN before operating instead.\n",
      "  with pd.option_context('mode.use_inf_as_na', True):\n"
     ]
    },
    {
     "data": {
      "image/png": "[encoded data removed]",
      "text/plain": [
       "<Figure size 1200x600 with 1 Axes>"
      ]
     },
     "metadata": {},
     "output_type": "display_data"
    }
   ],
   "source": [
    "plt.figure(figsize=(12, 6))\n",
    "sns.lineplot(data=valid_data, x=\"Epoch\", y=\"Validation Loss\")\n",
    "plt.title(\"Validation Loss Over Epochs\")\n",
    "plt.xlabel(\"Epoch\")\n",
    "plt.ylabel(\"Loss\")\n",
    "plt.grid(True)\n",
    "plt.show()"
   ]
  },
  {
   "cell_type": "code",
   "execution_count": 21,
   "id": "e70fcd56-fc62-44c6-adad-48c4bedb8ec0",
   "metadata": {},
   "outputs": [
    {
     "name": "stderr",
     "output_type": "stream",
     "text": [
      "/home/ubuntu/venv/lib/python3.10/site-packages/seaborn/_oldcore.py:1119: FutureWarning: use_inf_as_na option is deprecated and will be removed in a future version. Convert inf values to NaN before operating instead.\n",
      "  with pd.option_context('mode.use_inf_as_na', True):\n",
      "/home/ubuntu/venv/lib/python3.10/site-packages/seaborn/_oldcore.py:1119: FutureWarning: use_inf_as_na option is deprecated and will be removed in a future version. Convert inf values to NaN before operating instead.\n",
      "  with pd.option_context('mode.use_inf_as_na', True):\n"
     ]
    },
    {
     "data": {
      "image/png": "[encoded data removed]",
      "text/plain": [
       "<Figure size 1200x600 with 1 Axes>"
      ]
     },
     "metadata": {},
     "output_type": "display_data"
    }
   ],
   "source": [
    "plt.figure(figsize=(12, 6))\n",
    "sns.lineplot(data=train_data, x=\"Epoch\", y=\"Train Perplexity\")\n",
    "plt.title(\"Training Perplexity Over Epochs\")\n",
    "plt.xlabel(\"Epoch\")\n",
    "plt.ylabel(\"Perplexity\")\n",
    "plt.grid(True)\n",
    "plt.show()"
   ]
  },
  {
   "cell_type": "code",
   "execution_count": 22,
   "id": "5bc098b0-620e-4856-952c-a7194143c39d",
   "metadata": {},
   "outputs": [
    {
     "name": "stderr",
     "output_type": "stream",
     "text": [
      "/home/ubuntu/venv/lib/python3.10/site-packages/seaborn/_oldcore.py:1119: FutureWarning: use_inf_as_na option is deprecated and will be removed in a future version. Convert inf values to NaN before operating instead.\n",
      "  with pd.option_context('mode.use_inf_as_na', True):\n",
      "/home/ubuntu/venv/lib/python3.10/site-packages/seaborn/_oldcore.py:1119: FutureWarning: use_inf_as_na option is deprecated and will be removed in a future version. Convert inf values to NaN before operating instead.\n",
      "  with pd.option_context('mode.use_inf_as_na', True):\n"
     ]
    },
    {
     "data": {
      "image/png": "[encoded data removed]",
      "text/plain": [
       "<Figure size 1200x600 with 1 Axes>"
      ]
     },
     "metadata": {},
     "output_type": "display_data"
    }
   ],
   "source": [
    "plt.figure(figsize=(12, 6))\n",
    "sns.lineplot(data=valid_data, x=\"Epoch\", y=\"Validation Perplexity\")\n",
    "plt.title(\"Validation Perplexity Over Epochs\")\n",
    "plt.xlabel(\"Epoch\")\n",
    "plt.ylabel(\"Perplexity\")\n",
    "plt.grid(True)\n",
    "plt.show()"
   ]
  },
  {
   "cell_type": "markdown",
   "id": "f6bb7c93-22e2-498d-97d6-0a9941af4474",
   "metadata": {},
   "source": [
    "## Testing"
   ]
  },
  {
   "cell_type": "code",
   "execution_count": 23,
   "id": "526f4339-2de6-437e-9ea3-54e546426d96",
   "metadata": {},
   "outputs": [],
   "source": [
    "torch.save(model.state_dict(), \"model_wgts/model_weights_q4.pth\")"
   ]
  },
  {
   "cell_type": "code",
   "execution_count": 24,
   "id": "21d68fa8-8ea1-43ac-b832-d6d995b2325b",
   "metadata": {},
   "outputs": [],
   "source": [
    "saved_model = get_model(\n",
    "    vocab_size, d_model=512, N=7, heads=8, dropout=0.05, device=DEVICE\n",
    ")"
   ]
  },
  {
   "cell_type": "code",
   "execution_count": 25,
   "id": "a94eada9-f828-462a-9883-128a4f2b63ae",
   "metadata": {},
   "outputs": [
    {
     "data": {
      "text/plain": [
       "<All keys matched successfully>"
      ]
     },
     "execution_count": 25,
     "metadata": {},
     "output_type": "execute_result"
    }
   ],
   "source": [
    "saved_model.load_state_dict(\n",
    "    torch.load(\"model_wgts/model_weights_q4.pth\", map_location=DEVICE)\n",
    ")"
   ]
  },
  {
   "cell_type": "code",
   "execution_count": 26,
   "id": "3799909c-dea4-413d-a45e-4a325c63915f",
   "metadata": {},
   "outputs": [],
   "source": [
    "test_tokens = load_and_tokenize_file(\"data/wiki2.test.txt\", TOKENIZER)\n",
    "test_batch_generator = BatchGenerator(\n",
    "    train_tokens, seq_len=512, batch_size=25, pad_token_id=TOKENIZER.pad_token_id\n",
    ")"
   ]
  },
  {
   "cell_type": "code",
   "execution_count": 27,
   "id": "e422816b-959f-4d65-8c96-5c5a62d3954b",
   "metadata": {},
   "outputs": [],
   "source": [
    "def test_model(model, generator, device):\n",
    "    model.eval()\n",
    "    total_test_loss = 0\n",
    "    with torch.no_grad():\n",
    "        for i, batch in enumerate(generator.generate()):\n",
    "            batch_tensor = torch.tensor(batch).to(device)\n",
    "            no_peak_mask = nopeak_mask(batch_tensor.size(1), device)\n",
    "\n",
    "            preds = model(batch_tensor, no_peak_mask)\n",
    "            preds = preds[:, :-1, :]\n",
    "            ys = batch_tensor[:, 1:].contiguous().view(-1)\n",
    "\n",
    "            loss = F.cross_entropy(\n",
    "                preds.reshape(-1, preds.size(-1)),\n",
    "                ys,\n",
    "                ignore_index=TOKENIZER.pad_token_id,\n",
    "            )\n",
    "            total_test_loss += loss.item()\n",
    "\n",
    "            if (i + 1) == generator.steps_per_epoch:\n",
    "                break\n",
    "\n",
    "    avg_test_loss = total_test_loss / generator.steps_per_epoch\n",
    "    test_perplexity = torch.exp(torch.tensor(avg_test_loss)).item()\n",
    "\n",
    "    return avg_test_loss, test_perplexity"
   ]
  },
  {
   "cell_type": "code",
   "execution_count": 28,
   "id": "d697f7e5-dec4-499e-abf2-cb225bb8f47e",
   "metadata": {},
   "outputs": [],
   "source": [
    "loss, perplexity = test_model(saved_model, test_batch_generator, DEVICE)"
   ]
  },
  {
   "cell_type": "code",
   "execution_count": 29,
   "id": "a4c501a8-5141-455b-af9e-456e388d2bdc",
   "metadata": {},
   "outputs": [
    {
     "name": "stdout",
     "output_type": "stream",
     "text": [
      "Average Loss: 7.09008255849282\n"
     ]
    }
   ],
   "source": [
    "print(\"Average Loss:\", loss)"
   ]
  },
  {
   "cell_type": "code",
   "execution_count": 30,
   "id": "007584c4-2578-4d64-915c-b48c5aa43064",
   "metadata": {},
   "outputs": [
    {
     "name": "stdout",
     "output_type": "stream",
     "text": [
      "Perplexity: 1200.0069580078125\n"
     ]
    }
   ],
   "source": [
    "print(\"Perplexity:\", perplexity)"
   ]
  },
  {
   "cell_type": "markdown",
   "id": "c60a9717-42a5-4f26-8c7e-b12d6bd45b30",
   "metadata": {},
   "source": [
    "* The residual connections allow the gradient to flow directly through the network during backpropagation, mitigating issues related to the vanishing gradient problem.\n",
    "* This is especially vital in deep networks like Transformers, where multiple layers can lead to gradients becoming too small (vanishing) or too large (exploding) as they propagate back through the network during training.\n",
    "* This in a way is a regularization effect, help layers learn identity functions, which can be crucial when additional layers do not necessarily add new information.\n",
    "* Without residual connections, the model must rely entirely on the current layer's transformations to propagate information.\n",
    "* Which is what's causing our perplexities to be suboptimal."
   ]
  },
  {
   "cell_type": "code",
   "execution_count": null,
   "id": "6a6449f9-8c5c-45f2-b1ca-34a77dcfd331",
   "metadata": {},
   "outputs": [],
   "source": []
  }
 ],
 "metadata": {
  "kernelspec": {
   "display_name": "Python 3 (ipykernel)",
   "language": "python",
   "name": "python3"
  },
  "language_info": {
   "codemirror_mode": {
    "name": "ipython",
    "version": 3
   },
   "file_extension": ".py",
   "mimetype": "text/x-python",
   "name": "python",
   "nbconvert_exporter": "python",
   "pygments_lexer": "ipython3",
   "version": "3.12.2"
  }
 },
 "nbformat": 4,
 "nbformat_minor": 5
}
