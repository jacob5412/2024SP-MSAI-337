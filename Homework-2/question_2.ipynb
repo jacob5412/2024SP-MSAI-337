{
 "cells": [
  {
   "cell_type": "markdown",
   "id": "1608669c-eb69-426c-be99-15c9d9812965",
   "metadata": {},
   "source": [
    "# Question 2: Training Model"
   ]
  },
  {
   "cell_type": "code",
   "execution_count": 1,
   "id": "fa4a4d68-5b42-4fe0-8006-7e0c7f810a15",
   "metadata": {},
   "outputs": [],
   "source": [
    "import time\n",
    "\n",
    "import numpy as np\n",
    "import torch\n",
    "import torch.nn as nn\n",
    "import torch.nn.functional as F\n",
    "import torchtext.data as data\n",
    "from models.attention import MultiHeadAttention\n",
    "from models.embedder import Embedder, FeedForward, Norm, PositionalEncoder, get_clones\n",
    "from transformers import GPT2Tokenizer"
   ]
  },
  {
   "cell_type": "code",
   "execution_count": 2,
   "id": "a01dae61-429f-4f97-bf53-7bd920faa875",
   "metadata": {},
   "outputs": [
    {
     "name": "stdout",
     "output_type": "stream",
     "text": [
      "cuda\n"
     ]
    }
   ],
   "source": [
    "DEVICE = torch.device(\"cuda\" if torch.cuda.is_available() else \"cpu\")\n",
    "print(DEVICE)"
   ]
  },
  {
   "cell_type": "markdown",
   "id": "86df5176-9027-4f32-a095-c9cf374eea42",
   "metadata": {},
   "source": [
    "## Decoder"
   ]
  },
  {
   "cell_type": "code",
   "execution_count": 3,
   "id": "5104169e-9892-46e8-a62b-5ef1bab5e20f",
   "metadata": {},
   "outputs": [],
   "source": [
    "class DecoderLayer(nn.Module):\n",
    "    def __init__(self, d_model, heads, dropout=0.1):\n",
    "        super().__init__()\n",
    "        self.norm_1 = Norm(d_model)\n",
    "        self.dropout_1 = nn.Dropout(dropout)\n",
    "        self.attn_1 = MultiHeadAttention(heads, d_model, dropout=dropout)\n",
    "        self.ff = FeedForward(d_model, dropout=dropout)\n",
    "        self.norm_2 = Norm(d_model)\n",
    "        self.dropout_2 = nn.Dropout(dropout)\n",
    "\n",
    "    def forward(self, x, trg_mask):\n",
    "        x2 = self.norm_1(x)\n",
    "        x = x + self.dropout_1(self.attn_1(x2, x2, x2, trg_mask))\n",
    "        x2 = self.norm_2(x)\n",
    "        x = x + self.dropout_2(self.ff(x2))\n",
    "        return x"
   ]
  },
  {
   "cell_type": "code",
   "execution_count": 4,
   "id": "3c29c7b6-9ede-4de2-92bf-01b772a7c045",
   "metadata": {},
   "outputs": [],
   "source": [
    "class Decoder(nn.Module):\n",
    "    def __init__(self, vocab_size, d_model, N, heads, dropout):\n",
    "        super().__init__()\n",
    "        self.embed = Embedder(vocab_size, d_model)\n",
    "        self.pe = PositionalEncoder(d_model, dropout=dropout)\n",
    "        self.layers = get_clones(DecoderLayer(d_model, heads, dropout), N)\n",
    "        self.norm = Norm(d_model)\n",
    "\n",
    "    def forward(self, trg, trg_mask):\n",
    "        x = self.embed(trg)\n",
    "        x = self.pe(x)\n",
    "        for layer in self.layers:\n",
    "            x = layer(x, trg_mask)\n",
    "        return self.norm(x)"
   ]
  },
  {
   "cell_type": "markdown",
   "id": "185e24f7-c328-47a5-b169-c7a6c9310e3e",
   "metadata": {},
   "source": [
    "## Transformer"
   ]
  },
  {
   "cell_type": "code",
   "execution_count": 5,
   "id": "a76eedc1-1510-4165-8dd0-b55df5b7805e",
   "metadata": {},
   "outputs": [],
   "source": [
    "class Transformer(nn.Module):\n",
    "    def __init__(self, vocab_size, d_model, N, heads, dropout, device):\n",
    "        super().__init__()\n",
    "        self.device = device\n",
    "        self.vocab_size = vocab_size\n",
    "        self.decoder = Decoder(vocab_size, d_model, N, heads, dropout)\n",
    "\n",
    "    def forward(self, trg, trg_mask):\n",
    "        d_output = self.decoder(trg, trg_mask)\n",
    "        output = torch.matmul(d_output, self.decoder.embed.embed.weight.t())\n",
    "        return output"
   ]
  },
  {
   "cell_type": "markdown",
   "id": "2e9ab07d-4c13-4869-b51e-45951d93f764",
   "metadata": {},
   "source": [
    "## No-Peak Mask"
   ]
  },
  {
   "cell_type": "code",
   "execution_count": 6,
   "id": "e5209633-9eb5-49bf-bdac-3b1d2fc69593",
   "metadata": {},
   "outputs": [],
   "source": [
    "def nopeak_mask(size, device):\n",
    "    \"\"\"\n",
    "    Create a no-peak (or future token) mask for a given size.\n",
    "\n",
    "    Parameters:\n",
    "    size (int): The size of the sequence.\n",
    "    device (torch.device): The device to create the mask on.\n",
    "\n",
    "    Returns:\n",
    "    torch.Tensor: A boolean mask tensor\n",
    "    \"\"\"\n",
    "    np_mask = ~torch.triu(torch.ones((1, size, size), device=device), diagonal=1).bool()\n",
    "    return np_mask"
   ]
  },
  {
   "cell_type": "markdown",
   "id": "eae92f31-78aa-4ccc-9002-bb588cb0f656",
   "metadata": {},
   "source": [
    "## Data Feeder\n",
    "\n",
    "### Tokenizer"
   ]
  },
  {
   "cell_type": "code",
   "execution_count": 7,
   "id": "39d4a125-4183-4c80-9ea4-65cf66a42a8c",
   "metadata": {},
   "outputs": [],
   "source": [
    "TOKENIZER = GPT2Tokenizer.from_pretrained(\"gpt2\")"
   ]
  },
  {
   "cell_type": "code",
   "execution_count": 8,
   "id": "b5814a0f-8699-4f26-9082-fe6ec454a038",
   "metadata": {},
   "outputs": [
    {
     "data": {
      "text/plain": [
       "(50257, 50258, 50259)"
      ]
     },
     "execution_count": 8,
     "metadata": {},
     "output_type": "execute_result"
    }
   ],
   "source": [
    "TOKENIZER.add_special_tokens(\n",
    "    {\"pad_token\": \"[PAD]\", \"bos_token\": \"<sos>\", \"eos_token\": \"<eos>\"}\n",
    ")\n",
    "TOKENIZER.pad_token_id, TOKENIZER.bos_token_id, TOKENIZER.eos_token_id"
   ]
  },
  {
   "cell_type": "markdown",
   "id": "c3caa79d-ea1d-4766-8c4b-52b8d1840386",
   "metadata": {},
   "source": [
    "### Tokenization"
   ]
  },
  {
   "cell_type": "code",
   "execution_count": 9,
   "id": "64aef928-6bf9-44a9-8f3e-b29fc6900a2c",
   "metadata": {},
   "outputs": [],
   "source": [
    "def load_and_tokenize_file(file_path, tokenizer):\n",
    "    \"\"\"\n",
    "    Reads a text file and tokenizes it into words, prepending and appending\n",
    "    special tokens to each line.\n",
    "\n",
    "    Parameters:\n",
    "        file_path (str): The path to the text file.\n",
    "\n",
    "    Returns:\n",
    "        list of list of str: A list where each element is a\n",
    "        list of tokens from each line of the file, including special tokens.\n",
    "    \"\"\"\n",
    "    with open(file_path, \"r\", encoding=\"utf-8\") as file:\n",
    "        lines = [line.strip() for line in file if line.strip()]\n",
    "\n",
    "    # Tokenize each line with special tokens and store tokens\n",
    "    all_token_ids = []\n",
    "    for line in lines:\n",
    "        modified_line = f\"<sos> {line} <eos>\"  # Add special tokens\n",
    "        tokens = tokenizer.tokenize(modified_line)\n",
    "        token_ids = tokenizer.convert_tokens_to_ids(tokens)\n",
    "        all_token_ids.extend(token_ids)\n",
    "\n",
    "    return all_token_ids"
   ]
  },
  {
   "cell_type": "markdown",
   "id": "85fd3af9-5a06-439c-849c-42138451aa1b",
   "metadata": {},
   "source": [
    "### Batching and Creating Sequences"
   ]
  },
  {
   "cell_type": "code",
   "execution_count": 10,
   "id": "dd89c785-2df0-440a-843f-47fa0102d9a1",
   "metadata": {},
   "outputs": [],
   "source": [
    "class BatchGenerator:\n",
    "    def __init__(self, data, seq_len=512, batch_size=32, pad_token_id=0):\n",
    "        \"\"\"\n",
    "        Initializes the batch generator.\n",
    "\n",
    "        Parameters:\n",
    "            data (list of int): The flat list of all token IDs.\n",
    "            seq_len (int): The number of tokens in each sequence.\n",
    "            batch_size (int): The number of sequences in each batch.\n",
    "            pad_token_id (int): Token ID used for padding.\n",
    "        \"\"\"\n",
    "        self.data = data\n",
    "        self.seq_len = seq_len\n",
    "        self.batch_size = batch_size\n",
    "        self.pad_token_id = pad_token_id\n",
    "        self.total_data_len = len(data)\n",
    "        self.steps_per_epoch = (\n",
    "            self.total_data_len + self.batch_size * self.seq_len - 1\n",
    "        ) // (self.seq_len * self.batch_size)\n",
    "\n",
    "    def generate(self):\n",
    "        \"\"\"\n",
    "        A generator that yields batches of data.\n",
    "\n",
    "        Yields:\n",
    "            np.array: A batch of data with shape (batch_size, seq_len).\n",
    "        \"\"\"\n",
    "        start_index = 0\n",
    "        while True:\n",
    "            # Calculate the end index of the batch\n",
    "            end_index = start_index + self.batch_size * self.seq_len\n",
    "            if end_index > self.total_data_len:\n",
    "                # Handle end of array with padding if not enough data to complete the batch\n",
    "                residual_data = self.data[start_index : self.total_data_len]\n",
    "                padding_needed = end_index - self.total_data_len\n",
    "                padded_data = np.full(padding_needed, self.pad_token_id, dtype=int)\n",
    "                batch_data = np.concatenate((residual_data, padded_data))\n",
    "                start_index = (\n",
    "                    self.total_data_len\n",
    "                )  # Set start_index to total_data_len to end generation\n",
    "            else:\n",
    "                batch_data = self.data[start_index:end_index]\n",
    "                start_index += self.batch_size * self.seq_len\n",
    "\n",
    "            # Reshape batch data to the required dimensions\n",
    "            batch_data = np.array(batch_data).reshape(self.batch_size, self.seq_len)\n",
    "            yield batch_data\n",
    "\n",
    "            if start_index >= self.total_data_len:\n",
    "                break"
   ]
  },
  {
   "cell_type": "markdown",
   "id": "50d2ff91-90e0-4890-88be-8dceda8a570f",
   "metadata": {},
   "source": [
    "## Training"
   ]
  },
  {
   "cell_type": "code",
   "execution_count": 11,
   "id": "16d5ec96-72b8-49d6-976d-4e937fc6fc45",
   "metadata": {},
   "outputs": [],
   "source": [
    "def get_model(vocab_size, d_model=512, N=6, heads=8, dropout=0.1, device=\"cpu\"):\n",
    "    \"\"\"Initialize and return the Transformer model\n",
    "\n",
    "    Args:\n",
    "        vocab_size (int): The size of the vocabulary.\n",
    "        d_model (int): The dimensionality of the model.\n",
    "        N (int): The number of decoder layers.\n",
    "        heads (int): The number of attention heads.\n",
    "        dropout (float): The dropout rate.\n",
    "\n",
    "    Returns:\n",
    "        Transformer: The initialized Transformer model.\n",
    "    \"\"\"\n",
    "    model = Transformer(vocab_size, d_model, N, heads, dropout, device)\n",
    "    model.to(device)\n",
    "    return model"
   ]
  },
  {
   "cell_type": "code",
   "execution_count": 12,
   "id": "38902298-10af-4369-8403-cee5d6e38177",
   "metadata": {},
   "outputs": [],
   "source": [
    "def train_model(\n",
    "    model, train_generator, valid_generator, optimizer, device, epochs, print_every=50\n",
    "):\n",
    "    train_losses = []\n",
    "    train_perplexities = []\n",
    "    valid_losses = []\n",
    "    valid_perplexities = []\n",
    "\n",
    "    for epoch in range(epochs):\n",
    "        # Training Phase\n",
    "        model.train()\n",
    "        total_train_loss = 0\n",
    "        intermediate_train_loss = 0\n",
    "        start = time.time()\n",
    "\n",
    "        # Adjust to use the generator\n",
    "        for i, batch in enumerate(train_generator.generate()):\n",
    "            batch_tensor = torch.tensor(batch).to(device)\n",
    "            no_peak_mask = nopeak_mask(batch_tensor.size(1), device)\n",
    "\n",
    "            # https://github.com/SamLynnEvans/Transformer/blob/master/Batch.py#L20\n",
    "            preds = model(batch_tensor, no_peak_mask)\n",
    "            preds = preds[:, :-1, :]  # Exclude the last time step predictions\n",
    "            ys = (\n",
    "                batch_tensor[:, 1:].contiguous().view(-1)\n",
    "            )  # Targets shifted by one position\n",
    "\n",
    "            optimizer.zero_grad()\n",
    "            loss = F.cross_entropy(\n",
    "                preds.reshape(-1, preds.size(-1)),\n",
    "                ys,\n",
    "                ignore_index=TOKENIZER.pad_token_id,\n",
    "            )\n",
    "            loss.backward()\n",
    "            optimizer.step()\n",
    "\n",
    "            total_train_loss += loss.item()\n",
    "            intermediate_train_loss += loss.item()\n",
    "\n",
    "            if (i + 1) % print_every == 0:\n",
    "                p = int(100 * (i + 1) / train_generator.steps_per_epoch)\n",
    "                avg_loss = intermediate_train_loss / print_every\n",
    "                print(\n",
    "                    f\"{int((time.time() - start) // 60)}m: epoch {epoch + 1} [{p}%] Train loss = {avg_loss:.3f}\",\n",
    "                    end=\"\\r\",\n",
    "                )\n",
    "                intermediate_train_loss = 0\n",
    "\n",
    "            if (i + 1) == train_generator.steps_per_epoch:\n",
    "                break  # Stop after processing all steps per epoch\n",
    "\n",
    "        avg_train_loss = total_train_loss / train_generator.steps_per_epoch\n",
    "        train_perplexity = torch.exp(torch.tensor(avg_train_loss)).item()\n",
    "        train_losses.append(avg_train_loss)\n",
    "        train_perplexities.append(train_perplexity)\n",
    "\n",
    "        # Validation Phase\n",
    "        model.eval()\n",
    "        total_valid_loss = 0\n",
    "        with torch.no_grad():\n",
    "            for i, batch in enumerate(valid_generator.generate()):\n",
    "                batch_tensor = torch.tensor(batch).to(device)\n",
    "                no_peak_mask = nopeak_mask(batch_tensor.size(1), device)\n",
    "\n",
    "                preds = model(batch_tensor, no_peak_mask)\n",
    "                preds = preds[:, :-1, :]\n",
    "                ys = batch_tensor[:, 1:].contiguous().view(-1)\n",
    "\n",
    "                loss = F.cross_entropy(\n",
    "                    preds.reshape(-1, preds.size(-1)),\n",
    "                    ys,\n",
    "                    ignore_index=TOKENIZER.pad_token_id,\n",
    "                )\n",
    "                total_valid_loss += loss.item()\n",
    "\n",
    "                if (i + 1) == valid_generator.steps_per_epoch:\n",
    "                    break  # Stop after processing all steps per epoch\n",
    "\n",
    "        avg_valid_loss = total_valid_loss / valid_generator.steps_per_epoch\n",
    "        valid_perplexity = torch.exp(torch.tensor(avg_valid_loss)).item()\n",
    "        valid_losses.append(avg_valid_loss)\n",
    "        valid_perplexities.append(valid_perplexity)\n",
    "\n",
    "        print(\n",
    "            f\"Epoch {epoch + 1}: Train loss = {avg_train_loss:.3f}, Train Perplexity = {train_perplexity:.3f}\"\n",
    "        )\n",
    "        print(\n",
    "            f\"Epoch {epoch + 1}: Validation loss = {avg_valid_loss:.3f}, Validation Perplexity = {valid_perplexity:.3f}\"\n",
    "        )\n",
    "\n",
    "    return train_losses, train_perplexities, valid_losses, valid_perplexities"
   ]
  },
  {
   "cell_type": "code",
   "execution_count": 13,
   "id": "03b3ad40-8a11-43eb-9742-0c105f1bdaaa",
   "metadata": {},
   "outputs": [],
   "source": [
    "train_tokens = load_and_tokenize_file(\"data/wiki2.train.txt\", TOKENIZER)\n",
    "train_batch_generator = BatchGenerator(\n",
    "    train_tokens, seq_len=512, batch_size=25, pad_token_id=TOKENIZER.pad_token_id\n",
    ")\n",
    "\n",
    "valid_tokens = load_and_tokenize_file(\"data/wiki2.valid.txt\", TOKENIZER)\n",
    "valid_batch_generator = BatchGenerator(\n",
    "    valid_tokens, seq_len=512, batch_size=25, pad_token_id=TOKENIZER.pad_token_id\n",
    ")"
   ]
  },
  {
   "cell_type": "code",
   "execution_count": 14,
   "id": "05ee0ec2-1c55-4458-b812-3ab3c955acab",
   "metadata": {},
   "outputs": [],
   "source": [
    "vocab_size = len(TOKENIZER)\n",
    "model = get_model(vocab_size, d_model=512, N=7, heads=8, dropout=0.1, device=DEVICE)\n",
    "optimizer = torch.optim.Adam(model.parameters(), lr=0.001)"
   ]
  },
  {
   "cell_type": "code",
   "execution_count": 15,
   "id": "8611c099-87cd-4a66-ae70-6fdb0a500aad",
   "metadata": {},
   "outputs": [
    {
     "name": "stdout",
     "output_type": "stream",
     "text": [
      "Epoch 1: Train loss = 38.517, Train Perplexity = 53442750510530560.000\n",
      "Epoch 1: Validation loss = 8.764, Validation Perplexity = 6399.372\n",
      "Epoch 2: Train loss = 9.923, Train Perplexity = 20396.947\n",
      "Epoch 2: Validation loss = 6.542, Validation Perplexity = 693.697\n",
      "Epoch 3: Train loss = 8.482, Train Perplexity = 4824.823\n",
      "Epoch 3: Validation loss = 6.130, Validation Perplexity = 459.342\n",
      "Epoch 4: Train loss = 8.015, Train Perplexity = 3025.445\n",
      "Epoch 4: Validation loss = 5.976, Validation Perplexity = 393.701\n",
      "Epoch 5: Train loss = 7.699, Train Perplexity = 2205.720\n",
      "Epoch 5: Validation loss = 5.933, Validation Perplexity = 377.131\n",
      "Epoch 6: Train loss = 7.382, Train Perplexity = 1606.688\n",
      "Epoch 6: Validation loss = 5.827, Validation Perplexity = 339.428\n",
      "Epoch 7: Train loss = 6.979, Train Perplexity = 1073.964\n",
      "Epoch 7: Validation loss = 5.761, Validation Perplexity = 317.576\n",
      "Epoch 8: Train loss = 6.645, Train Perplexity = 769.051\n",
      "Epoch 8: Validation loss = 5.719, Validation Perplexity = 304.557\n",
      "Epoch 9: Train loss = 6.472, Train Perplexity = 647.081\n",
      "Epoch 9: Validation loss = 5.687, Validation Perplexity = 295.143\n",
      "Epoch 10: Train loss = 6.385, Train Perplexity = 592.872\n",
      "Epoch 10: Validation loss = 5.661, Validation Perplexity = 287.390\n",
      "Epoch 11: Train loss = 6.326, Train Perplexity = 558.931\n",
      "Epoch 11: Validation loss = 5.633, Validation Perplexity = 279.412\n",
      "Epoch 12: Train loss = 6.281, Train Perplexity = 534.190\n",
      "Epoch 12: Validation loss = 5.606, Validation Perplexity = 271.940\n",
      "Epoch 13: Train loss = 6.240, Train Perplexity = 512.814\n",
      "Epoch 13: Validation loss = 5.588, Validation Perplexity = 267.282\n",
      "Epoch 14: Train loss = 6.203, Train Perplexity = 494.263\n",
      "Epoch 14: Validation loss = 5.561, Validation Perplexity = 260.059\n",
      "Epoch 15: Train loss = 6.167, Train Perplexity = 476.719\n",
      "Epoch 15: Validation loss = 5.536, Validation Perplexity = 253.759\n",
      "Epoch 16: Train loss = 6.132, Train Perplexity = 460.147\n",
      "Epoch 16: Validation loss = 5.510, Validation Perplexity = 247.162\n",
      "Epoch 17: Train loss = 6.096, Train Perplexity = 444.244\n",
      "Epoch 17: Validation loss = 5.480, Validation Perplexity = 239.747\n",
      "Epoch 18: Train loss = 6.068, Train Perplexity = 431.728\n",
      "Epoch 18: Validation loss = 5.454, Validation Perplexity = 233.658\n",
      "Epoch 19: Train loss = 6.045, Train Perplexity = 421.884\n",
      "Epoch 19: Validation loss = 5.433, Validation Perplexity = 228.848\n",
      "Epoch 20: Train loss = 6.005, Train Perplexity = 405.390\n",
      "Epoch 20: Validation loss = 5.406, Validation Perplexity = 222.697\n"
     ]
    }
   ],
   "source": [
    "results = train_model(\n",
    "    model,\n",
    "    train_batch_generator,\n",
    "    valid_batch_generator,\n",
    "    optimizer,\n",
    "    DEVICE,\n",
    "    epochs=20,\n",
    "    print_every=50,\n",
    ")"
   ]
  },
  {
   "cell_type": "markdown",
   "id": "8fbc3429-b0db-4e45-b943-a75d01f3cf17",
   "metadata": {},
   "source": [
    "```python\n",
    "Epoch 1: Train loss = 38.517, Train Perplexity = 53442750510530560.000\n",
    "Epoch 1: Validation loss = 8.764, Validation Perplexity = 6399.372\n",
    "Epoch 2: Train loss = 9.923, Train Perplexity = 20396.947\n",
    "Epoch 2: Validation loss = 6.542, Validation Perplexity = 693.697\n",
    "Epoch 3: Train loss = 8.482, Train Perplexity = 4824.823\n",
    "Epoch 3: Validation loss = 6.130, Validation Perplexity = 459.342\n",
    "Epoch 4: Train loss = 8.015, Train Perplexity = 3025.445\n",
    "Epoch 4: Validation loss = 5.976, Validation Perplexity = 393.701\n",
    "Epoch 5: Train loss = 7.699, Train Perplexity = 2205.720\n",
    "Epoch 5: Validation loss = 5.933, Validation Perplexity = 377.131\n",
    "Epoch 6: Train loss = 7.382, Train Perplexity = 1606.688\n",
    "Epoch 6: Validation loss = 5.827, Validation Perplexity = 339.428\n",
    "Epoch 7: Train loss = 6.979, Train Perplexity = 1073.964\n",
    "Epoch 7: Validation loss = 5.761, Validation Perplexity = 317.576\n",
    "Epoch 8: Train loss = 6.645, Train Perplexity = 769.051\n",
    "Epoch 8: Validation loss = 5.719, Validation Perplexity = 304.557\n",
    "Epoch 9: Train loss = 6.472, Train Perplexity = 647.081\n",
    "Epoch 9: Validation loss = 5.687, Validation Perplexity = 295.143\n",
    "Epoch 10: Train loss = 6.385, Train Perplexity = 592.872\n",
    "Epoch 10: Validation loss = 5.661, Validation Perplexity = 287.390\n",
    "Epoch 11: Train loss = 6.326, Train Perplexity = 558.931\n",
    "Epoch 11: Validation loss = 5.633, Validation Perplexity = 279.412\n",
    "Epoch 12: Train loss = 6.281, Train Perplexity = 534.190\n",
    "Epoch 12: Validation loss = 5.606, Validation Perplexity = 271.940\n",
    "Epoch 13: Train loss = 6.240, Train Perplexity = 512.814\n",
    "Epoch 13: Validation loss = 5.588, Validation Perplexity = 267.282\n",
    "Epoch 14: Train loss = 6.203, Train Perplexity = 494.263\n",
    "Epoch 14: Validation loss = 5.561, Validation Perplexity = 260.059\n",
    "Epoch 15: Train loss = 6.167, Train Perplexity = 476.719\n",
    "Epoch 15: Validation loss = 5.536, Validation Perplexity = 253.759\n",
    "Epoch 16: Train loss = 6.132, Train Perplexity = 460.147\n",
    "Epoch 16: Validation loss = 5.510, Validation Perplexity = 247.162\n",
    "Epoch 17: Train loss = 6.096, Train Perplexity = 444.244\n",
    "Epoch 17: Validation loss = 5.480, Validation Perplexity = 239.747\n",
    "Epoch 18: Train loss = 6.068, Train Perplexity = 431.728\n",
    "Epoch 18: Validation loss = 5.454, Validation Perplexity = 233.658\n",
    "Epoch 19: Train loss = 6.045, Train Perplexity = 421.884\n",
    "Epoch 19: Validation loss = 5.433, Validation Perplexity = 228.848\n",
    "Epoch 20: Train loss = 6.005, Train Perplexity = 405.390\n",
    "Epoch 20: Validation loss = 5.406, Validation Perplexity = 222.697\n",
    "```\n",
    "\n",
    "Note that our losses and perplexities are very low."
   ]
  },
  {
   "cell_type": "code",
   "execution_count": 16,
   "id": "df66c211-9238-4f24-b1ae-8225784288e1",
   "metadata": {},
   "outputs": [],
   "source": [
    "train_losses, train_perplexities, valid_losses, valid_perplexities = results"
   ]
  },
  {
   "cell_type": "markdown",
   "id": "ff16dded-adb3-4bd2-8bdf-964168d2e2b3",
   "metadata": {},
   "source": [
    "## Hyperparameters"
   ]
  },
  {
   "cell_type": "markdown",
   "id": "ecbf333a-a7ad-44b6-ade3-ecd2dac93900",
   "metadata": {},
   "source": [
    "* `d_model` = 512:\n",
    "    * Dimensionality of the embedding space.\n",
    "    * also used as the size of the hidden layers\n",
    "* `N` = 7:\n",
    "    * number of decoder layers in the transformer model\n",
    "    * More layers generally provide more representational power\n",
    "* `heads` = 8:\n",
    "    * number of parallel attention layers or \"heads\"\n",
    "    * Multiple heads allow the model to simultaneously attend to information from different representation subspaces at different positions, improving the learning of dependencies\n",
    "    * Eight is what's usually used in practice\n",
    "* `dropout` = 0.1:\n",
    "    * regularization technique where randomly selected neurons are ignored during training, reducing the risk of overfitting\n",
    "    * helps prevent the model from becoming too dependent on any single neuron\n",
    "* `lr` = 0.001:\n",
    "    * controls how much to change the model in response to the estimated error each time the model weights are updated\n",
    "    * a small learning rate is a common starting point\n",
    "    * generally low enough to allow for stable training but not so low that training becomes too slow\n",
    "* `batch_size` = 25:\n",
    "    * Number of training examples used in one iteration\n",
    "    * This is the maximum we were able to accomodate in our `NVIDIA A10G` (24 GB).\n",
    "* Due to limited compute:\n",
    "    * we can only test one set of hyperparams.\n",
    "    * we chose the recommended hyperparams in the exercise.\n",
    "    * This gave us excellent perplexity with the GPT-2 tokenizer."
   ]
  },
  {
   "cell_type": "markdown",
   "id": "d1230dbf-4c60-45e4-98e5-5ee8b15ff35f",
   "metadata": {},
   "source": [
    "### Training Results"
   ]
  },
  {
   "cell_type": "code",
   "execution_count": 17,
   "id": "075a4185-04c1-40d3-b1b8-dd047486178a",
   "metadata": {},
   "outputs": [],
   "source": [
    "import matplotlib.pyplot as plt\n",
    "import pandas as pd\n",
    "import seaborn as sns"
   ]
  },
  {
   "cell_type": "code",
   "execution_count": 18,
   "id": "f3499d23-99ed-413a-9577-28b74e420829",
   "metadata": {},
   "outputs": [],
   "source": [
    "epochs = list(range(1, len(train_losses) + 1))\n",
    "train_data = pd.DataFrame(\n",
    "    {\n",
    "        \"Epoch\": epochs,\n",
    "        \"Train Loss\": train_losses,\n",
    "        \"Train Perplexity\": train_perplexities,\n",
    "    }\n",
    ")\n",
    "\n",
    "valid_data = pd.DataFrame(\n",
    "    {\n",
    "        \"Epoch\": epochs,\n",
    "        \"Validation Loss\": valid_losses,\n",
    "        \"Validation Perplexity\": valid_perplexities,\n",
    "    }\n",
    ")"
   ]
  },
  {
   "cell_type": "code",
   "execution_count": 19,
   "id": "0ce8ccfd-b606-4075-9c69-44802e7eaaeb",
   "metadata": {},
   "outputs": [
    {
     "name": "stderr",
     "output_type": "stream",
     "text": [
      "/home/ubuntu/venv/lib/python3.10/site-packages/seaborn/_oldcore.py:1119: FutureWarning: use_inf_as_na option is deprecated and will be removed in a future version. Convert inf values to NaN before operating instead.\n",
      "  with pd.option_context('mode.use_inf_as_na', True):\n",
      "/home/ubuntu/venv/lib/python3.10/site-packages/seaborn/_oldcore.py:1119: FutureWarning: use_inf_as_na option is deprecated and will be removed in a future version. Convert inf values to NaN before operating instead.\n",
      "  with pd.option_context('mode.use_inf_as_na', True):\n"
     ]
    },
    {
     "data": {
      "image/png": "[encoded data removed]",
      "text/plain": [
       "<Figure size 1200x600 with 1 Axes>"
      ]
     },
     "metadata": {},
     "output_type": "display_data"
    }
   ],
   "source": [
    "plt.figure(figsize=(12, 6))\n",
    "sns.lineplot(data=train_data, x=\"Epoch\", y=\"Train Loss\")\n",
    "plt.title(\"Training Loss Over Epochs\")\n",
    "plt.xlabel(\"Epoch\")\n",
    "plt.ylabel(\"Loss\")\n",
    "plt.grid(True)\n",
    "plt.show()"
   ]
  },
  {
   "cell_type": "code",
   "execution_count": 20,
   "id": "f7845ed3-940e-41fe-9c28-5db33a387bb6",
   "metadata": {},
   "outputs": [
    {
     "name": "stderr",
     "output_type": "stream",
     "text": [
      "/home/ubuntu/venv/lib/python3.10/site-packages/seaborn/_oldcore.py:1119: FutureWarning: use_inf_as_na option is deprecated and will be removed in a future version. Convert inf values to NaN before operating instead.\n",
      "  with pd.option_context('mode.use_inf_as_na', True):\n",
      "/home/ubuntu/venv/lib/python3.10/site-packages/seaborn/_oldcore.py:1119: FutureWarning: use_inf_as_na option is deprecated and will be removed in a future version. Convert inf values to NaN before operating instead.\n",
      "  with pd.option_context('mode.use_inf_as_na', True):\n"
     ]
    },
    {
     "data": {
      "image/png": "[encoded data removed]",
      "text/plain": [
       "<Figure size 1200x600 with 1 Axes>"
      ]
     },
     "metadata": {},
     "output_type": "display_data"
    }
   ],
   "source": [
    "plt.figure(figsize=(12, 6))\n",
    "sns.lineplot(data=valid_data, x=\"Epoch\", y=\"Validation Loss\")\n",
    "plt.title(\"Validation Loss Over Epochs\")\n",
    "plt.xlabel(\"Epoch\")\n",
    "plt.ylabel(\"Loss\")\n",
    "plt.grid(True)\n",
    "plt.show()"
   ]
  },
  {
   "cell_type": "code",
   "execution_count": 21,
   "id": "e70fcd56-fc62-44c6-adad-48c4bedb8ec0",
   "metadata": {},
   "outputs": [
    {
     "name": "stderr",
     "output_type": "stream",
     "text": [
      "/home/ubuntu/venv/lib/python3.10/site-packages/seaborn/_oldcore.py:1119: FutureWarning: use_inf_as_na option is deprecated and will be removed in a future version. Convert inf values to NaN before operating instead.\n",
      "  with pd.option_context('mode.use_inf_as_na', True):\n",
      "/home/ubuntu/venv/lib/python3.10/site-packages/seaborn/_oldcore.py:1119: FutureWarning: use_inf_as_na option is deprecated and will be removed in a future version. Convert inf values to NaN before operating instead.\n",
      "  with pd.option_context('mode.use_inf_as_na', True):\n"
     ]
    },
    {
     "data": {
      "image/png": "[encoded data removed]",
      "text/plain": [
       "<Figure size 1200x600 with 1 Axes>"
      ]
     },
     "metadata": {},
     "output_type": "display_data"
    }
   ],
   "source": [
    "plt.figure(figsize=(12, 6))\n",
    "sns.lineplot(data=train_data, x=\"Epoch\", y=\"Train Perplexity\")\n",
    "plt.title(\"Training Perplexity Over Epochs\")\n",
    "plt.xlabel(\"Epoch\")\n",
    "plt.ylabel(\"Perplexity\")\n",
    "plt.grid(True)\n",
    "plt.show()"
   ]
  },
  {
   "cell_type": "code",
   "execution_count": 22,
   "id": "5bc098b0-620e-4856-952c-a7194143c39d",
   "metadata": {},
   "outputs": [
    {
     "name": "stderr",
     "output_type": "stream",
     "text": [
      "/home/ubuntu/venv/lib/python3.10/site-packages/seaborn/_oldcore.py:1119: FutureWarning: use_inf_as_na option is deprecated and will be removed in a future version. Convert inf values to NaN before operating instead.\n",
      "  with pd.option_context('mode.use_inf_as_na', True):\n",
      "/home/ubuntu/venv/lib/python3.10/site-packages/seaborn/_oldcore.py:1119: FutureWarning: use_inf_as_na option is deprecated and will be removed in a future version. Convert inf values to NaN before operating instead.\n",
      "  with pd.option_context('mode.use_inf_as_na', True):\n"
     ]
    },
    {
     "data": {
      "image/png": "[encoded data removed]",
      "text/plain": [
       "<Figure size 1200x600 with 1 Axes>"
      ]
     },
     "metadata": {},
     "output_type": "display_data"
    }
   ],
   "source": [
    "plt.figure(figsize=(12, 6))\n",
    "sns.lineplot(data=valid_data, x=\"Epoch\", y=\"Validation Perplexity\")\n",
    "plt.title(\"Validation Perplexity Over Epochs\")\n",
    "plt.xlabel(\"Epoch\")\n",
    "plt.ylabel(\"Perplexity\")\n",
    "plt.grid(True)\n",
    "plt.show()"
   ]
  },
  {
   "cell_type": "markdown",
   "id": "f67cf27b",
   "metadata": {},
   "source": [
    "We can see that our most model would be at 10 epochs. We should use early stopping here."
   ]
  },
  {
   "cell_type": "markdown",
   "id": "5cd581cd-7d29-4dfc-9f60-40a2f0422764",
   "metadata": {},
   "source": [
    "## Testing"
   ]
  },
  {
   "cell_type": "code",
   "execution_count": 23,
   "id": "07ceb83f-6a80-46ef-946b-c8264b6bd552",
   "metadata": {},
   "outputs": [],
   "source": [
    "torch.save(model.state_dict(), \"model_wgts/model_weights_q2.pth\")"
   ]
  },
  {
   "cell_type": "code",
   "execution_count": 24,
   "id": "6c4157fa-75c6-4b11-ae90-66ef146b73e0",
   "metadata": {},
   "outputs": [],
   "source": [
    "saved_model = get_model(\n",
    "    vocab_size, d_model=512, N=7, heads=8, dropout=0.1, device=DEVICE\n",
    ")"
   ]
  },
  {
   "cell_type": "code",
   "execution_count": 25,
   "id": "f13760fd-310b-443b-8088-68c006090312",
   "metadata": {},
   "outputs": [
    {
     "data": {
      "text/plain": [
       "<All keys matched successfully>"
      ]
     },
     "execution_count": 25,
     "metadata": {},
     "output_type": "execute_result"
    }
   ],
   "source": [
    "saved_model.load_state_dict(\n",
    "    torch.load(\"model_wgts/model_weights_q2.pth\", map_location=DEVICE)\n",
    ")"
   ]
  },
  {
   "cell_type": "code",
   "execution_count": 26,
   "id": "4bba1463-6482-4baf-a1c0-3ea9668f81f3",
   "metadata": {},
   "outputs": [],
   "source": [
    "test_tokens = load_and_tokenize_file(\"data/wiki2.test.txt\", TOKENIZER)\n",
    "test_batch_generator = BatchGenerator(\n",
    "    train_tokens, seq_len=512, batch_size=25, pad_token_id=TOKENIZER.pad_token_id\n",
    ")"
   ]
  },
  {
   "cell_type": "code",
   "execution_count": 27,
   "id": "8b3de2df-44c8-4d5f-bc12-40442f77fc9a",
   "metadata": {},
   "outputs": [],
   "source": [
    "def test_model(model, generator, device):\n",
    "    model.eval()\n",
    "    total_test_loss = 0\n",
    "    with torch.no_grad():\n",
    "        for i, batch in enumerate(generator.generate()):\n",
    "            batch_tensor = torch.tensor(batch).to(device)\n",
    "            no_peak_mask = nopeak_mask(batch_tensor.size(1), device)\n",
    "\n",
    "            preds = model(batch_tensor, no_peak_mask)\n",
    "            preds = preds[:, :-1, :]\n",
    "            ys = batch_tensor[:, 1:].contiguous().view(-1)\n",
    "\n",
    "            loss = F.cross_entropy(\n",
    "                preds.reshape(-1, preds.size(-1)),\n",
    "                ys,\n",
    "                ignore_index=TOKENIZER.pad_token_id,\n",
    "            )\n",
    "            total_test_loss += loss.item()\n",
    "\n",
    "            if (i + 1) == generator.steps_per_epoch:\n",
    "                break\n",
    "\n",
    "    avg_test_loss = total_test_loss / generator.steps_per_epoch\n",
    "    test_perplexity = torch.exp(torch.tensor(avg_test_loss)).item()\n",
    "\n",
    "    return avg_test_loss, test_perplexity"
   ]
  },
  {
   "cell_type": "code",
   "execution_count": 28,
   "id": "7770a309-75ff-49e8-9c3b-b5e42accc0d6",
   "metadata": {},
   "outputs": [],
   "source": [
    "loss, perplexity = test_model(saved_model, test_batch_generator, DEVICE)"
   ]
  },
  {
   "cell_type": "code",
   "execution_count": 29,
   "id": "45cf86e9-839c-480a-8880-3edec953f413",
   "metadata": {},
   "outputs": [
    {
     "name": "stdout",
     "output_type": "stream",
     "text": [
      "Average Loss: 5.8854453563690186\n"
     ]
    }
   ],
   "source": [
    "print(\"Average Loss:\", loss)"
   ]
  },
  {
   "cell_type": "code",
   "execution_count": 30,
   "id": "46aa97c4-2f59-46ca-8eb2-7c3eda8ad4a6",
   "metadata": {},
   "outputs": [
    {
     "name": "stdout",
     "output_type": "stream",
     "text": [
      "Perplexity: 359.7630310058594\n"
     ]
    }
   ],
   "source": [
    "print(\"Perplexity:\", perplexity)"
   ]
  },
  {
   "cell_type": "code",
   "execution_count": null,
   "id": "c584d7de-7621-4727-8a76-532b47363415",
   "metadata": {},
   "outputs": [],
   "source": []
  }
 ],
 "metadata": {
  "kernelspec": {
   "display_name": "Python 3 (ipykernel)",
   "language": "python",
   "name": "python3"
  },
  "language_info": {
   "codemirror_mode": {
    "name": "ipython",
    "version": 3
   },
   "file_extension": ".py",
   "mimetype": "text/x-python",
   "name": "python",
   "nbconvert_exporter": "python",
   "pygments_lexer": "ipython3",
   "version": "3.12.2"
  }
 },
 "nbformat": 4,
 "nbformat_minor": 5
}
