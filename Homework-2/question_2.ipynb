{
 "cells": [
  {
   "cell_type": "markdown",
   "id": "1608669c-eb69-426c-be99-15c9d9812965",
   "metadata": {},
   "source": [
    "# Question 2: Training Model"
   ]
  },
  {
   "cell_type": "code",
   "execution_count": 1,
   "id": "fa4a4d68-5b42-4fe0-8006-7e0c7f810a15",
   "metadata": {},
   "outputs": [],
   "source": [
    "import time\n",
    "\n",
    "import numpy as np\n",
    "import torch\n",
    "import torch.nn as nn\n",
    "import torch.nn.functional as F\n",
    "import torchtext.data as data\n",
    "from models.attention import MultiHeadAttention\n",
    "from models.embedder import Embedder, FeedForward, Norm, PositionalEncoder, get_clones\n",
    "from transformers import GPT2Tokenizer"
   ]
  },
  {
   "cell_type": "code",
   "execution_count": 2,
   "id": "a01dae61-429f-4f97-bf53-7bd920faa875",
   "metadata": {},
   "outputs": [
    {
     "name": "stdout",
     "output_type": "stream",
     "text": [
      "cuda\n"
     ]
    }
   ],
   "source": [
    "DEVICE = torch.device(\"cuda\" if torch.cuda.is_available() else \"cpu\")\n",
    "print(DEVICE)"
   ]
  },
  {
   "cell_type": "markdown",
   "id": "86df5176-9027-4f32-a095-c9cf374eea42",
   "metadata": {},
   "source": [
    "## Decoder"
   ]
  },
  {
   "cell_type": "code",
   "execution_count": 3,
   "id": "5104169e-9892-46e8-a62b-5ef1bab5e20f",
   "metadata": {},
   "outputs": [],
   "source": [
    "class DecoderLayer(nn.Module):\n",
    "    def __init__(self, d_model, heads, dropout=0.1):\n",
    "        super().__init__()\n",
    "        self.norm_1 = Norm(d_model)\n",
    "        self.dropout_1 = nn.Dropout(dropout)\n",
    "        self.attn_1 = MultiHeadAttention(heads, d_model, dropout=dropout)\n",
    "        self.ff = FeedForward(d_model, dropout=dropout)\n",
    "        self.norm_2 = Norm(d_model)\n",
    "        self.dropout_2 = nn.Dropout(dropout)\n",
    "\n",
    "    def forward(self, x, trg_mask):\n",
    "        x2 = self.norm_1(x)\n",
    "        x = x + self.dropout_1(self.attn_1(x2, x2, x2, trg_mask))\n",
    "        x2 = self.norm_2(x)\n",
    "        x = x + self.dropout_2(self.ff(x2))\n",
    "        return x"
   ]
  },
  {
   "cell_type": "code",
   "execution_count": 4,
   "id": "3c29c7b6-9ede-4de2-92bf-01b772a7c045",
   "metadata": {},
   "outputs": [],
   "source": [
    "class Decoder(nn.Module):\n",
    "    def __init__(self, vocab_size, d_model, N, heads, dropout):\n",
    "        super().__init__()\n",
    "        self.embed = Embedder(vocab_size, d_model)\n",
    "        self.pe = PositionalEncoder(d_model, dropout=dropout)\n",
    "        self.layers = get_clones(DecoderLayer(d_model, heads, dropout), N)\n",
    "        self.norm = Norm(d_model)\n",
    "\n",
    "    def forward(self, trg, trg_mask):\n",
    "        x = self.embed(trg)\n",
    "        x = self.pe(x)\n",
    "        for layer in self.layers:\n",
    "            x = layer(x, trg_mask)\n",
    "        return self.norm(x)"
   ]
  },
  {
   "cell_type": "markdown",
   "id": "185e24f7-c328-47a5-b169-c7a6c9310e3e",
   "metadata": {},
   "source": [
    "## Transformer"
   ]
  },
  {
   "cell_type": "code",
   "execution_count": 5,
   "id": "a76eedc1-1510-4165-8dd0-b55df5b7805e",
   "metadata": {},
   "outputs": [],
   "source": [
    "class Transformer(nn.Module):\n",
    "    def __init__(self, vocab_size, d_model, N, heads, dropout, device):\n",
    "        super().__init__()\n",
    "        self.device = device\n",
    "        self.vocab_size = vocab_size\n",
    "        self.decoder = Decoder(vocab_size, d_model, N, heads, dropout)\n",
    "        self.out = nn.Linear(d_model, vocab_size)\n",
    "\n",
    "    def forward(self, trg, trg_mask):\n",
    "        d_output = self.decoder(trg, trg_mask)\n",
    "        output = self.out(d_output)\n",
    "        return output"
   ]
  },
  {
   "cell_type": "markdown",
   "id": "2e9ab07d-4c13-4869-b51e-45951d93f764",
   "metadata": {},
   "source": [
    "## No-Peak Mask"
   ]
  },
  {
   "cell_type": "code",
   "execution_count": 6,
   "id": "e5209633-9eb5-49bf-bdac-3b1d2fc69593",
   "metadata": {},
   "outputs": [],
   "source": [
    "def nopeak_mask(size, device):\n",
    "    np_mask = torch.triu(torch.ones((1, size, size), device=device), 1).bool()\n",
    "    return np_mask\n",
    "\n",
    "\n",
    "def create_src_mask(src, pad_token_id, device):\n",
    "    src_mask = (src != pad_token_id).unsqueeze(-2)\n",
    "    return src_mask"
   ]
  },
  {
   "cell_type": "markdown",
   "id": "eae92f31-78aa-4ccc-9002-bb588cb0f656",
   "metadata": {},
   "source": [
    "## Data Feeder\n",
    "\n",
    "### Tokenizer"
   ]
  },
  {
   "cell_type": "code",
   "execution_count": 7,
   "id": "39d4a125-4183-4c80-9ea4-65cf66a42a8c",
   "metadata": {},
   "outputs": [],
   "source": [
    "TOKENIZER = GPT2Tokenizer.from_pretrained(\"gpt2\")"
   ]
  },
  {
   "cell_type": "code",
   "execution_count": 8,
   "id": "4f318f68-eacb-48a9-beb0-6574b64b00cc",
   "metadata": {},
   "outputs": [
    {
     "data": {
      "text/plain": [
       "(50257, 50258, 50259)"
      ]
     },
     "execution_count": 8,
     "metadata": {},
     "output_type": "execute_result"
    }
   ],
   "source": [
    "TOKENIZER.add_special_tokens(\n",
    "    {\"pad_token\": \"[PAD]\", \"bos_token\": \"<sos>\", \"eos_token\": \"<eos>\"}\n",
    ")\n",
    "TOKENIZER.pad_token_id, TOKENIZER.bos_token_id, TOKENIZER.eos_token_id"
   ]
  },
  {
   "cell_type": "code",
   "execution_count": 9,
   "id": "4c490266-f504-4f40-8bd7-529c9d165cb8",
   "metadata": {},
   "outputs": [],
   "source": [
    "def tokenize(text):\n",
    "    tokens = TOKENIZER.encode(\n",
    "        text,\n",
    "        add_special_tokens=True,\n",
    "        max_length=512,  # sequence length\n",
    "        truncation=True,\n",
    "    )\n",
    "    return tokens"
   ]
  },
  {
   "cell_type": "code",
   "execution_count": 10,
   "id": "eb4e4188-f0a3-4da0-b0af-89609658bf26",
   "metadata": {},
   "outputs": [],
   "source": [
    "def load_dataset(path):\n",
    "    examples = []\n",
    "    with open(path, \"r\", encoding=\"utf-8\") as f:\n",
    "        for line in f:\n",
    "            if line.strip():\n",
    "                src_line = line.strip()\n",
    "                examples.append(data.Example.fromlist([src_line], [(\"src\", SRC)]))\n",
    "    dataset = data.Dataset(examples, [(\"src\", SRC)])\n",
    "    return dataset"
   ]
  },
  {
   "cell_type": "markdown",
   "id": "62e2a94f-e0b7-4694-a8b1-e366b727b623",
   "metadata": {},
   "source": [
    "### BucketIterator"
   ]
  },
  {
   "cell_type": "code",
   "execution_count": 11,
   "id": "e3ad1ef0-ee50-4ac4-8543-52cd09150224",
   "metadata": {},
   "outputs": [],
   "source": [
    "SRC = data.Field(\n",
    "    use_vocab=False,\n",
    "    tokenize=tokenize,\n",
    "    pad_token=TOKENIZER.pad_token_id,\n",
    "    unk_token=TOKENIZER.unk_token_id,\n",
    "    init_token=TOKENIZER.bos_token_id,\n",
    "    eos_token=TOKENIZER.eos_token_id,\n",
    "    lower=False,\n",
    "    batch_first=True,\n",
    "    fix_length=512,\n",
    ")"
   ]
  },
  {
   "cell_type": "code",
   "execution_count": 12,
   "id": "51d9aa4f-fe55-4b70-b779-e6c68610973b",
   "metadata": {},
   "outputs": [],
   "source": [
    "train_data = load_dataset(\"data/wiki2.train.txt\")"
   ]
  },
  {
   "cell_type": "code",
   "execution_count": 14,
   "id": "860be704-5b5b-4a28-b7f2-319bb80f2d7a",
   "metadata": {},
   "outputs": [],
   "source": [
    "valid_data = load_dataset(\"data/wiki2.valid.txt\")"
   ]
  },
  {
   "cell_type": "markdown",
   "id": "0e7fcf08-7acb-4d80-8655-28f75f32cbd5",
   "metadata": {},
   "source": [
    "## Training"
   ]
  },
  {
   "cell_type": "code",
   "execution_count": 15,
   "id": "70e0e847-332d-4c03-8d71-6a49a71eb4a5",
   "metadata": {},
   "outputs": [],
   "source": [
    "def get_model(vocab_size, d_model=512, N=6, heads=8, dropout=0.1, device=\"cpu\"):\n",
    "    \"\"\"Initialize and return the Transformer model\n",
    "\n",
    "    Args:\n",
    "        vocab_size (int): The size of the vocabulary.\n",
    "        d_model (int): The dimensionality of the model.\n",
    "        N (int): The number of decoder layers.\n",
    "        heads (int): The number of attention heads.\n",
    "        dropout (float): The dropout rate.\n",
    "\n",
    "    Returns:\n",
    "        Transformer: The initialized Transformer model.\n",
    "    \"\"\"\n",
    "    model = Transformer(vocab_size, d_model, N, heads, dropout, device)\n",
    "    model.to(device)\n",
    "    return model"
   ]
  },
  {
   "cell_type": "code",
   "execution_count": 16,
   "id": "168e472c-ce38-4e84-a23f-3c83b1d5f208",
   "metadata": {},
   "outputs": [],
   "source": [
    "def train_model(\n",
    "    model, train_iterator, valid_iterator, optimizer, device, epochs, print_every=50\n",
    "):\n",
    "    train_losses = []\n",
    "    train_perplexities = []\n",
    "    valid_losses = []\n",
    "    valid_perplexities = []\n",
    "\n",
    "    for epoch in range(epochs):\n",
    "        # Training Phase\n",
    "        model.train()\n",
    "        total_train_loss = 0\n",
    "        intermediate_train_loss = 0\n",
    "        start = time.time()\n",
    "\n",
    "        for i, batch in enumerate(train_iterator):\n",
    "            src = batch.src.to(device)\n",
    "            src_mask = create_src_mask(src, TOKENIZER.pad_token_id, device)\n",
    "            no_peak_mask = nopeak_mask(src.size(1), device)\n",
    "\n",
    "            # https://github.com/SamLynnEvans/Transformer/blob/master/Batch.py#L20\n",
    "            preds = model(src, src_mask & no_peak_mask)\n",
    "            preds = preds[:, :-1, :]  # exclude the last time step predictions\n",
    "            ys = src[:, 1:].contiguous().view(-1)  # Targets shifted by one position\n",
    "\n",
    "            optimizer.zero_grad()\n",
    "            loss = F.cross_entropy(\n",
    "                preds.reshape(-1, preds.size(-1)),\n",
    "                ys,\n",
    "                ignore_index=TOKENIZER.pad_token_id,\n",
    "            )\n",
    "            loss.backward()\n",
    "            optimizer.step()\n",
    "\n",
    "            total_train_loss += loss.item()\n",
    "            intermediate_train_loss += loss.item()\n",
    "\n",
    "            if (i + 1) % print_every == 0:\n",
    "                p = int(100 * (i + 1) / len(train_iterator))\n",
    "                avg_loss = intermediate_train_loss / print_every\n",
    "                print(\n",
    "                    f\"{(time.time() - start) // 60}m: epoch {epoch + 1} [{p}%] Train loss = {avg_loss:.3f}\",\n",
    "                    end=\"\\r\",\n",
    "                )\n",
    "                intermediate_train_loss = 0\n",
    "\n",
    "        avg_train_loss = total_train_loss / len(train_iterator)\n",
    "        train_perplexity = torch.exp(torch.tensor(avg_train_loss)).item()\n",
    "        train_losses.append(avg_train_loss)\n",
    "        train_perplexities.append(train_perplexity)\n",
    "\n",
    "        # Validation phase\n",
    "        model.eval()\n",
    "        total_valid_loss = 0\n",
    "        with torch.no_grad():\n",
    "            for i, batch in enumerate(valid_iterator):\n",
    "                src = batch.src.to(device)\n",
    "                src_mask = create_src_mask(src, TOKENIZER.pad_token_id, device)\n",
    "                no_peak_mask = nopeak_mask(src.size(1), device)\n",
    "\n",
    "                preds = model(src, src_mask & no_peak_mask)\n",
    "                preds = preds[:, :-1, :]\n",
    "                ys = src[:, 1:].contiguous().view(-1)\n",
    "\n",
    "                loss = F.cross_entropy(\n",
    "                    preds.reshape(-1, preds.size(-1)),\n",
    "                    ys,\n",
    "                    ignore_index=TOKENIZER.pad_token_id,\n",
    "                )\n",
    "                total_valid_loss += loss.item()\n",
    "\n",
    "        avg_valid_loss = total_valid_loss / len(valid_iterator)\n",
    "        valid_perplexity = torch.exp(torch.tensor(avg_valid_loss)).item()\n",
    "        valid_losses.append(avg_valid_loss)\n",
    "        valid_perplexities.append(valid_perplexity)\n",
    "\n",
    "        print(\n",
    "            f\"Epoch {epoch + 1}: Train loss = {avg_train_loss:.3f}, Train Perplexity = {train_perplexity:.3f}\"\n",
    "        )\n",
    "        print(\n",
    "            f\"Epoch {epoch + 1}: Validation loss = {avg_valid_loss:.3f}, Validation Perplexity = {valid_perplexity:.3f}\"\n",
    "        )\n",
    "\n",
    "    return train_losses, train_perplexities, valid_losses, valid_perplexities"
   ]
  },
  {
   "cell_type": "markdown",
   "id": "686b1ef6-1193-4acf-bab3-4b57b8b6804a",
   "metadata": {},
   "source": [
    "### Training the Model"
   ]
  },
  {
   "cell_type": "code",
   "execution_count": 17,
   "id": "ed9027dc-e704-4f75-97ac-4065b65c7657",
   "metadata": {},
   "outputs": [],
   "source": [
    "train_iterator = data.BucketIterator(\n",
    "    train_data,\n",
    "    batch_size=25,\n",
    "    device=DEVICE,\n",
    "    sort=False,\n",
    "    repeat=False,\n",
    ")"
   ]
  },
  {
   "cell_type": "code",
   "execution_count": 18,
   "id": "4b84e903-4dcb-4ff5-9853-cde11fa0b6ff",
   "metadata": {},
   "outputs": [],
   "source": [
    "valid_iterator = data.BucketIterator(\n",
    "    valid_data,\n",
    "    batch_size=25,\n",
    "    device=DEVICE,\n",
    "    sort=False,\n",
    "    repeat=False,\n",
    ")"
   ]
  },
  {
   "cell_type": "code",
   "execution_count": 19,
   "id": "5c00081d-96ee-4586-bdab-e00edba8a391",
   "metadata": {},
   "outputs": [],
   "source": [
    "vocab_size = len(TOKENIZER)\n",
    "model = get_model(vocab_size, d_model=512, N=6, heads=8, dropout=0.1, device=DEVICE)\n",
    "optimizer = torch.optim.Adam(model.parameters(), lr=0.001)"
   ]
  },
  {
   "cell_type": "code",
   "execution_count": 20,
   "id": "49eb2310-55a9-4816-aff7-5b8fcdfb2e34",
   "metadata": {},
   "outputs": [
    {
     "name": "stdout",
     "output_type": "stream",
     "text": [
      "Epoch 1: Train loss = 4.196, Train Perplexity = 66.388\n",
      "Epoch 1: Validation loss = 1.775, Validation Perplexity = 5.902\n",
      "Epoch 2: Train loss = 2.324, Train Perplexity = 10.214\n",
      "Epoch 2: Validation loss = 1.047, Validation Perplexity = 2.850\n",
      "Epoch 3: Train loss = 1.943, Train Perplexity = 6.976\n",
      "Epoch 3: Validation loss = 0.867, Validation Perplexity = 2.380\n",
      "Epoch 4: Train loss = 1.600, Train Perplexity = 4.952\n",
      "Epoch 4: Validation loss = 0.621, Validation Perplexity = 1.861\n",
      "Epoch 5: Train loss = 1.611, Train Perplexity = 5.010\n",
      "Epoch 5: Validation loss = 0.686, Validation Perplexity = 1.986\n",
      "Epoch 6: Train loss = 1.678, Train Perplexity = 5.353\n",
      "Epoch 6: Validation loss = 0.552, Validation Perplexity = 1.737\n",
      "Epoch 7: Train loss = 1.223, Train Perplexity = 3.399\n",
      "Epoch 7: Validation loss = 0.427, Validation Perplexity = 1.532\n",
      "Epoch 8: Train loss = 0.918, Train Perplexity = 2.505\n",
      "Epoch 8: Validation loss = 0.404, Validation Perplexity = 1.498\n",
      "Epoch 9: Train loss = 1.303, Train Perplexity = 3.680\n",
      "Epoch 9: Validation loss = 0.337, Validation Perplexity = 1.401\n",
      "Epoch 10: Train loss = 0.952, Train Perplexity = 2.592\n",
      "Epoch 10: Validation loss = 0.380, Validation Perplexity = 1.463\n",
      "Epoch 11: Train loss = 0.644, Train Perplexity = 1.904\n",
      "Epoch 11: Validation loss = 0.280, Validation Perplexity = 1.323\n",
      "Epoch 12: Train loss = 0.751, Train Perplexity = 2.119\n",
      "Epoch 12: Validation loss = 0.262, Validation Perplexity = 1.299\n",
      "Epoch 13: Train loss = 0.667, Train Perplexity = 1.949\n",
      "Epoch 13: Validation loss = 0.297, Validation Perplexity = 1.346\n",
      "Epoch 14: Train loss = 0.773, Train Perplexity = 2.167\n",
      "Epoch 14: Validation loss = 0.249, Validation Perplexity = 1.283\n",
      "Epoch 15: Train loss = 0.823, Train Perplexity = 2.277\n",
      "Epoch 15: Validation loss = 0.214, Validation Perplexity = 1.239\n",
      "Epoch 16: Train loss = 0.798, Train Perplexity = 2.222\n",
      "Epoch 16: Validation loss = 0.266, Validation Perplexity = 1.305\n",
      "Epoch 17: Train loss = 0.749, Train Perplexity = 2.115\n",
      "Epoch 17: Validation loss = 0.195, Validation Perplexity = 1.216\n",
      "Epoch 18: Train loss = 0.599, Train Perplexity = 1.820\n",
      "Epoch 18: Validation loss = 0.208, Validation Perplexity = 1.231\n",
      "Epoch 19: Train loss = 0.600, Train Perplexity = 1.822\n",
      "Epoch 19: Validation loss = 0.244, Validation Perplexity = 1.276\n",
      "Epoch 20: Train loss = 0.705, Train Perplexity = 2.024\n",
      "Epoch 20: Validation loss = 0.219, Validation Perplexity = 1.245\n"
     ]
    }
   ],
   "source": [
    "results = train_model(\n",
    "    model, train_iterator, valid_iterator, optimizer, DEVICE, epochs=20, print_every=50\n",
    ")"
   ]
  },
  {
   "cell_type": "markdown",
   "id": "8fbc3429-b0db-4e45-b943-a75d01f3cf17",
   "metadata": {},
   "source": [
    "```python\n",
    "Epoch 1: Train loss = 4.196, Train Perplexity = 66.388\n",
    "Epoch 1: Validation loss = 1.775, Validation Perplexity = 5.902\n",
    "Epoch 2: Train loss = 2.324, Train Perplexity = 10.214\n",
    "Epoch 2: Validation loss = 1.047, Validation Perplexity = 2.850\n",
    "Epoch 3: Train loss = 1.943, Train Perplexity = 6.976\n",
    "Epoch 3: Validation loss = 0.867, Validation Perplexity = 2.380\n",
    "Epoch 4: Train loss = 1.600, Train Perplexity = 4.952\n",
    "Epoch 4: Validation loss = 0.621, Validation Perplexity = 1.861\n",
    "Epoch 5: Train loss = 1.611, Train Perplexity = 5.010\n",
    "Epoch 5: Validation loss = 0.686, Validation Perplexity = 1.986\n",
    "Epoch 6: Train loss = 1.678, Train Perplexity = 5.353\n",
    "Epoch 6: Validation loss = 0.552, Validation Perplexity = 1.737\n",
    "Epoch 7: Train loss = 1.223, Train Perplexity = 3.399\n",
    "Epoch 7: Validation loss = 0.427, Validation Perplexity = 1.532\n",
    "Epoch 8: Train loss = 0.918, Train Perplexity = 2.505\n",
    "Epoch 8: Validation loss = 0.404, Validation Perplexity = 1.498\n",
    "Epoch 9: Train loss = 1.303, Train Perplexity = 3.680\n",
    "Epoch 9: Validation loss = 0.337, Validation Perplexity = 1.401\n",
    "Epoch 10: Train loss = 0.952, Train Perplexity = 2.592\n",
    "Epoch 10: Validation loss = 0.380, Validation Perplexity = 1.463\n",
    "Epoch 11: Train loss = 0.644, Train Perplexity = 1.904\n",
    "Epoch 11: Validation loss = 0.280, Validation Perplexity = 1.323\n",
    "Epoch 12: Train loss = 0.751, Train Perplexity = 2.119\n",
    "Epoch 12: Validation loss = 0.262, Validation Perplexity = 1.299\n",
    "Epoch 13: Train loss = 0.667, Train Perplexity = 1.949\n",
    "Epoch 13: Validation loss = 0.297, Validation Perplexity = 1.346\n",
    "Epoch 14: Train loss = 0.773, Train Perplexity = 2.167\n",
    "Epoch 14: Validation loss = 0.249, Validation Perplexity = 1.283\n",
    "Epoch 15: Train loss = 0.823, Train Perplexity = 2.277\n",
    "Epoch 15: Validation loss = 0.214, Validation Perplexity = 1.239\n",
    "Epoch 16: Train loss = 0.798, Train Perplexity = 2.222\n",
    "Epoch 16: Validation loss = 0.266, Validation Perplexity = 1.305\n",
    "Epoch 17: Train loss = 0.749, Train Perplexity = 2.115\n",
    "Epoch 17: Validation loss = 0.195, Validation Perplexity = 1.216\n",
    "Epoch 18: Train loss = 0.599, Train Perplexity = 1.820\n",
    "Epoch 18: Validation loss = 0.208, Validation Perplexity = 1.231\n",
    "Epoch 19: Train loss = 0.600, Train Perplexity = 1.822\n",
    "Epoch 19: Validation loss = 0.244, Validation Perplexity = 1.276\n",
    "Epoch 20: Train loss = 0.705, Train Perplexity = 2.024\n",
    "Epoch 20: Validation loss = 0.219, Validation Perplexity = 1.245\n",
    "```\n",
    "\n",
    "Note that our losses and perplexities are very low."
   ]
  },
  {
   "cell_type": "code",
   "execution_count": 28,
   "id": "df66c211-9238-4f24-b1ae-8225784288e1",
   "metadata": {},
   "outputs": [],
   "source": [
    "train_losses, train_perplexities, valid_losses, valid_perplexities = results"
   ]
  },
  {
   "cell_type": "markdown",
   "id": "ff16dded-adb3-4bd2-8bdf-964168d2e2b3",
   "metadata": {},
   "source": [
    "## Hyperparameters"
   ]
  },
  {
   "cell_type": "markdown",
   "id": "ecbf333a-a7ad-44b6-ade3-ecd2dac93900",
   "metadata": {},
   "source": [
    "* `d_model` = 512:\n",
    "    * Dimensionality of the embedding space.\n",
    "    * also used as the size of the hidden layers\n",
    "* `N` = 6:\n",
    "    * number of decoder layers in the transformer model\n",
    "    * More layers generally provide more representational power\n",
    "* `heads` = 8:\n",
    "    * number of parallel attention layers or \"heads\"\n",
    "    * Multiple heads allow the model to simultaneously attend to information from different representation subspaces at different positions, improving the learning of dependencies\n",
    "    * Eight is what's usually used in practice\n",
    "* `dropout` = 0.1:\n",
    "    * regularization technique where randomly selected neurons are ignored during training, reducing the risk of overfitting\n",
    "    * helps prevent the model from becoming too dependent on any single neuron\n",
    "* `lr` = 0.001:\n",
    "    * controls how much to change the model in response to the estimated error each time the model weights are updated\n",
    "    * a small learning rate is a common starting point\n",
    "    * generally low enough to allow for stable training but not so low that training becomes too slow\n",
    "* `batch_size` = 25:\n",
    "    * Number of training examples used in one iteration\n",
    "    * This is the maximum we were able to accomodate in our `NVIDIA A10G` (24 GB).\n",
    "* Due to limited compute:\n",
    "    * we can only test one set of hyperparams.\n",
    "    * we chose the recommended hyperparams in the exercise.\n",
    "    * This gave us excellent perplexity with the GPT-2 tokenizer."
   ]
  },
  {
   "cell_type": "markdown",
   "id": "d1230dbf-4c60-45e4-98e5-5ee8b15ff35f",
   "metadata": {},
   "source": [
    "### Training Results"
   ]
  },
  {
   "cell_type": "code",
   "execution_count": 29,
   "id": "075a4185-04c1-40d3-b1b8-dd047486178a",
   "metadata": {},
   "outputs": [],
   "source": [
    "import matplotlib.pyplot as plt\n",
    "import pandas as pd\n",
    "import seaborn as sns"
   ]
  },
  {
   "cell_type": "code",
   "execution_count": 30,
   "id": "f3499d23-99ed-413a-9577-28b74e420829",
   "metadata": {},
   "outputs": [],
   "source": [
    "epochs = list(range(1, len(train_losses) + 1))\n",
    "train_data = pd.DataFrame(\n",
    "    {\n",
    "        \"Epoch\": epochs,\n",
    "        \"Train Loss\": train_losses,\n",
    "        \"Train Perplexity\": train_perplexities,\n",
    "    }\n",
    ")\n",
    "\n",
    "valid_data = pd.DataFrame(\n",
    "    {\n",
    "        \"Epoch\": epochs,\n",
    "        \"Validation Loss\": valid_losses,\n",
    "        \"Validation Perplexity\": valid_perplexities,\n",
    "    }\n",
    ")"
   ]
  },
  {
   "cell_type": "code",
   "execution_count": 31,
   "id": "0ce8ccfd-b606-4075-9c69-44802e7eaaeb",
   "metadata": {},
   "outputs": [
    {
     "name": "stderr",
     "output_type": "stream",
     "text": [
      "/home/ubuntu/venv/lib/python3.10/site-packages/seaborn/_oldcore.py:1119: FutureWarning: use_inf_as_na option is deprecated and will be removed in a future version. Convert inf values to NaN before operating instead.\n",
      "  with pd.option_context('mode.use_inf_as_na', True):\n",
      "/home/ubuntu/venv/lib/python3.10/site-packages/seaborn/_oldcore.py:1119: FutureWarning: use_inf_as_na option is deprecated and will be removed in a future version. Convert inf values to NaN before operating instead.\n",
      "  with pd.option_context('mode.use_inf_as_na', True):\n"
     ]
    },
    {
     "data": {
      "image/png": "[encoded data removed]",
      "text/plain": [
       "<Figure size 1200x600 with 1 Axes>"
      ]
     },
     "metadata": {},
     "output_type": "display_data"
    }
   ],
   "source": [
    "plt.figure(figsize=(12, 6))\n",
    "sns.lineplot(data=train_data, x=\"Epoch\", y=\"Train Loss\")\n",
    "plt.title(\"Training Loss Over Epochs\")\n",
    "plt.xlabel(\"Epoch\")\n",
    "plt.ylabel(\"Loss\")\n",
    "plt.grid(True)\n",
    "plt.show()"
   ]
  },
  {
   "cell_type": "code",
   "execution_count": 32,
   "id": "f7845ed3-940e-41fe-9c28-5db33a387bb6",
   "metadata": {},
   "outputs": [
    {
     "name": "stderr",
     "output_type": "stream",
     "text": [
      "/home/ubuntu/venv/lib/python3.10/site-packages/seaborn/_oldcore.py:1119: FutureWarning: use_inf_as_na option is deprecated and will be removed in a future version. Convert inf values to NaN before operating instead.\n",
      "  with pd.option_context('mode.use_inf_as_na', True):\n",
      "/home/ubuntu/venv/lib/python3.10/site-packages/seaborn/_oldcore.py:1119: FutureWarning: use_inf_as_na option is deprecated and will be removed in a future version. Convert inf values to NaN before operating instead.\n",
      "  with pd.option_context('mode.use_inf_as_na', True):\n"
     ]
    },
    {
     "data": {
      "image/png": "[encoded data removed]",
      "text/plain": [
       "<Figure size 1200x600 with 1 Axes>"
      ]
     },
     "metadata": {},
     "output_type": "display_data"
    }
   ],
   "source": [
    "plt.figure(figsize=(12, 6))\n",
    "sns.lineplot(data=valid_data, x=\"Epoch\", y=\"Validation Loss\")\n",
    "plt.title(\"Validation Loss Over Epochs\")\n",
    "plt.xlabel(\"Epoch\")\n",
    "plt.ylabel(\"Loss\")\n",
    "plt.grid(True)\n",
    "plt.show()"
   ]
  },
  {
   "cell_type": "code",
   "execution_count": 33,
   "id": "e70fcd56-fc62-44c6-adad-48c4bedb8ec0",
   "metadata": {},
   "outputs": [
    {
     "name": "stderr",
     "output_type": "stream",
     "text": [
      "/home/ubuntu/venv/lib/python3.10/site-packages/seaborn/_oldcore.py:1119: FutureWarning: use_inf_as_na option is deprecated and will be removed in a future version. Convert inf values to NaN before operating instead.\n",
      "  with pd.option_context('mode.use_inf_as_na', True):\n",
      "/home/ubuntu/venv/lib/python3.10/site-packages/seaborn/_oldcore.py:1119: FutureWarning: use_inf_as_na option is deprecated and will be removed in a future version. Convert inf values to NaN before operating instead.\n",
      "  with pd.option_context('mode.use_inf_as_na', True):\n"
     ]
    },
    {
     "data": {
      "image/png": "[encoded data removed]",
      "text/plain": [
       "<Figure size 1200x600 with 1 Axes>"
      ]
     },
     "metadata": {},
     "output_type": "display_data"
    }
   ],
   "source": [
    "plt.figure(figsize=(12, 6))\n",
    "sns.lineplot(data=train_data, x=\"Epoch\", y=\"Train Perplexity\")\n",
    "plt.title(\"Training Perplexity Over Epochs\")\n",
    "plt.xlabel(\"Epoch\")\n",
    "plt.ylabel(\"Perplexity\")\n",
    "plt.grid(True)\n",
    "plt.show()"
   ]
  },
  {
   "cell_type": "code",
   "execution_count": 34,
   "id": "5bc098b0-620e-4856-952c-a7194143c39d",
   "metadata": {},
   "outputs": [
    {
     "name": "stderr",
     "output_type": "stream",
     "text": [
      "/home/ubuntu/venv/lib/python3.10/site-packages/seaborn/_oldcore.py:1119: FutureWarning: use_inf_as_na option is deprecated and will be removed in a future version. Convert inf values to NaN before operating instead.\n",
      "  with pd.option_context('mode.use_inf_as_na', True):\n",
      "/home/ubuntu/venv/lib/python3.10/site-packages/seaborn/_oldcore.py:1119: FutureWarning: use_inf_as_na option is deprecated and will be removed in a future version. Convert inf values to NaN before operating instead.\n",
      "  with pd.option_context('mode.use_inf_as_na', True):\n"
     ]
    },
    {
     "data": {
      "image/png": "[encoded data removed]",
      "text/plain": [
       "<Figure size 1200x600 with 1 Axes>"
      ]
     },
     "metadata": {},
     "output_type": "display_data"
    }
   ],
   "source": [
    "plt.figure(figsize=(12, 6))\n",
    "sns.lineplot(data=valid_data, x=\"Epoch\", y=\"Validation Perplexity\")\n",
    "plt.title(\"Validation Perplexity Over Epochs\")\n",
    "plt.xlabel(\"Epoch\")\n",
    "plt.ylabel(\"Perplexity\")\n",
    "plt.grid(True)\n",
    "plt.show()"
   ]
  },
  {
   "cell_type": "markdown",
   "id": "5cd581cd-7d29-4dfc-9f60-40a2f0422764",
   "metadata": {},
   "source": [
    "## Testing"
   ]
  },
  {
   "cell_type": "code",
   "execution_count": 37,
   "id": "07ceb83f-6a80-46ef-946b-c8264b6bd552",
   "metadata": {},
   "outputs": [],
   "source": [
    "torch.save(model.state_dict(), \"model_wgts/model_weights.pth\")"
   ]
  },
  {
   "cell_type": "code",
   "execution_count": 35,
   "id": "4bba1463-6482-4baf-a1c0-3ea9668f81f3",
   "metadata": {},
   "outputs": [],
   "source": [
    "test_data = load_dataset(\"data/wiki2.test.txt\")"
   ]
  },
  {
   "cell_type": "code",
   "execution_count": 36,
   "id": "b6d7f496-fc13-4559-8a56-83b8b70575ef",
   "metadata": {},
   "outputs": [],
   "source": [
    "test_iterator = data.BucketIterator(\n",
    "    test_data,\n",
    "    batch_size=25,\n",
    "    device=DEVICE,\n",
    "    sort=False,\n",
    "    repeat=False,\n",
    ")"
   ]
  },
  {
   "cell_type": "code",
   "execution_count": 42,
   "id": "8b3de2df-44c8-4d5f-bc12-40442f77fc9a",
   "metadata": {},
   "outputs": [],
   "source": [
    "def test_model(model, iterator, device):\n",
    "    model.eval()\n",
    "    total_test_loss = 0\n",
    "    total_examples = 0\n",
    "\n",
    "    with torch.no_grad():\n",
    "        for batch in iterator:\n",
    "            src = batch.src.to(device)\n",
    "            src_mask = create_src_mask(src, TOKENIZER.pad_token_id, device)\n",
    "            no_peak_mask = nopeak_mask(src.size(1), device)\n",
    "\n",
    "            preds = model(src, src_mask & no_peak_mask)\n",
    "            preds = preds[:, :-1, :]  # exclude the last time step predictions\n",
    "            ys = (\n",
    "                src[:, 1:].contiguous().view(-1)\n",
    "            )  # Targets shifted by one position, assuming next-word prediction\n",
    "\n",
    "            loss = F.cross_entropy(\n",
    "                preds.reshape(-1, preds.size(-1)),\n",
    "                ys,\n",
    "                ignore_index=TOKENIZER.pad_token_id,\n",
    "            )\n",
    "            total_test_loss += loss.item()\n",
    "            total_examples += src.size(0)\n",
    "\n",
    "    avg_test_loss = total_test_loss / total_examples\n",
    "    test_perplexity = torch.exp(torch.tensor(avg_test_loss)).item()\n",
    "\n",
    "    return avg_test_loss, test_perplexity"
   ]
  },
  {
   "cell_type": "code",
   "execution_count": 43,
   "id": "7770a309-75ff-49e8-9c3b-b5e42accc0d6",
   "metadata": {},
   "outputs": [],
   "source": [
    "loss, perplexity = test_model(model, test_iterator, DEVICE)"
   ]
  },
  {
   "cell_type": "code",
   "execution_count": 46,
   "id": "45cf86e9-839c-480a-8880-3edec953f413",
   "metadata": {},
   "outputs": [
    {
     "name": "stdout",
     "output_type": "stream",
     "text": [
      "Average Loss: 0.009466366565988288\n"
     ]
    }
   ],
   "source": [
    "print(\"Average Loss:\", loss)"
   ]
  },
  {
   "cell_type": "code",
   "execution_count": 48,
   "id": "46aa97c4-2f59-46ca-8eb2-7c3eda8ad4a6",
   "metadata": {},
   "outputs": [
    {
     "name": "stdout",
     "output_type": "stream",
     "text": [
      "Perplexity: 1.0095113515853882\n"
     ]
    }
   ],
   "source": [
    "print(\"Perplexity:\", perplexity)"
   ]
  },
  {
   "cell_type": "markdown",
   "id": "2c607bf1-573e-46a7-a580-6beef828e2ce",
   "metadata": {},
   "source": [
    "## Using Saved Weights"
   ]
  },
  {
   "cell_type": "code",
   "execution_count": 49,
   "id": "6c4157fa-75c6-4b11-ae90-66ef146b73e0",
   "metadata": {},
   "outputs": [],
   "source": [
    "saved_model = get_model(\n",
    "    vocab_size, d_model=512, N=6, heads=8, dropout=0.1, device=DEVICE\n",
    ")"
   ]
  },
  {
   "cell_type": "code",
   "execution_count": 51,
   "id": "f13760fd-310b-443b-8088-68c006090312",
   "metadata": {},
   "outputs": [
    {
     "data": {
      "text/plain": [
       "<All keys matched successfully>"
      ]
     },
     "execution_count": 51,
     "metadata": {},
     "output_type": "execute_result"
    }
   ],
   "source": [
    "saved_model.load_state_dict(\n",
    "    torch.load(\"model_wgts/model_weights.pth\", map_location=DEVICE)\n",
    ")"
   ]
  },
  {
   "cell_type": "code",
   "execution_count": 58,
   "id": "9755b5a9-7354-43cf-916c-15cb5b14c86e",
   "metadata": {},
   "outputs": [],
   "source": [
    "def predict_next_token(text, model, tokenizer, device):\n",
    "    token_ids = tokenizer.encode(text, return_tensors=\"pt\")\n",
    "    token_ids = token_ids.to(device)\n",
    "\n",
    "    src_mask = create_src_mask(token_ids, tokenizer.pad_token_id, DEVICE)\n",
    "\n",
    "    model.eval()\n",
    "\n",
    "    with torch.no_grad():\n",
    "        outputs = model(token_ids, src_mask)\n",
    "\n",
    "    logits = outputs[0, -1, :]\n",
    "    probs = torch.nn.functional.softmax(logits, dim=-1)\n",
    "    predicted_token_id = torch.argmax(probs).item()\n",
    "\n",
    "    predicted_token = tokenizer.decode([predicted_token_id])\n",
    "\n",
    "    return predicted_token"
   ]
  },
  {
   "cell_type": "code",
   "execution_count": 65,
   "id": "c9c8429b-be91-478d-8078-c6fc8a48f52b",
   "metadata": {},
   "outputs": [],
   "source": [
    "def predict_next_n_tokens(text, model, tokenizer, device, n):\n",
    "    for _ in range(n):\n",
    "        next_token = predict_next_token(text, model, tokenizer, device)\n",
    "        text += \" \" + next_token\n",
    "    return text"
   ]
  },
  {
   "cell_type": "code",
   "execution_count": 72,
   "id": "20a44f7a-f9c8-4784-8e9b-00faca72fb5e",
   "metadata": {},
   "outputs": [],
   "source": [
    "text = \"\"\"When Japan began the Pacific War on 8 December , the sisters sortied for the <unk> Islands with four other battleships and the light carrier <unk> as distant cover for the fleet attacking Pearl Harbor , and returned six days later . On 11 March 1942 <unk> and <unk> sortied from their anchorage at <unk> to join the unsuccessful search for the American carrier force that had attacked Marcus Island a week earlier . Similarly they pursued but did not catch the American carriers that had launched the <unk> Raid on 18 April . \n",
    " During gunnery training on 5 May ,\"\"\"\n",
    "n = 10"
   ]
  },
  {
   "cell_type": "code",
   "execution_count": 73,
   "id": "9c3d0761-8f10-4877-81bc-68f1a15aaa99",
   "metadata": {},
   "outputs": [
    {
     "name": "stdout",
     "output_type": "stream",
     "text": [
      "Extended sequence with predicted tokens: When Japan began the Pacific War on 8 December , the sisters sortied for the <unk> Islands with four other battleships and the light carrier <unk> as distant cover for the fleet attacking Pearl Harbor , and returned six days later . On 11 March 1942 <unk> and <unk> sortied from their anchorage at <unk> to join the unsuccessful search for the American carrier force that had attacked Marcus Island a week earlier . Similarly they pursued but did not catch the American carriers that had launched the <unk> Raid on 18 April . \n",
      " During gunnery training on 5 May ,  and  the  game  had  been  can  be  very  on  the\n"
     ]
    }
   ],
   "source": [
    "predicted_sequence = predict_next_n_tokens(text, model, TOKENIZER, DEVICE, n)\n",
    "print(\"Extended sequence with predicted tokens:\", predicted_sequence)"
   ]
  },
  {
   "cell_type": "markdown",
   "id": "80c38a4c-52e2-4361-905d-612c46703584",
   "metadata": {},
   "source": [
    "Ground Truth:\n",
    "\n",
    "```txt\n",
    "When Japan began the Pacific War on 8 December , the sisters sortied for the <unk> Islands with four other battleships and the light carrier <unk> as distant cover for the fleet attacking Pearl Harbor , and returned six days later . On 11 March 1942 <unk> and <unk> sortied from their anchorage at <unk> to join the unsuccessful search for the American carrier force that had attacked Marcus Island a week earlier . Similarly they pursued but did not catch the American carriers that had launched the <unk> Raid on 18 April . \n",
    " During gunnery training on 5 May , [there was a premature detonation in the left gun]\n",
    "```"
   ]
  },
  {
   "cell_type": "markdown",
   "id": "b51113fb-6417-4866-966c-d91746cf5c55",
   "metadata": {},
   "source": [
    "Albeit, not perfect, this is what our model predicts."
   ]
  },
  {
   "cell_type": "code",
   "execution_count": null,
   "id": "aa4d83b9-8cf4-4b79-b785-06b0ade2d606",
   "metadata": {},
   "outputs": [],
   "source": []
  }
 ],
 "metadata": {
  "kernelspec": {
   "display_name": "Python 3 (ipykernel)",
   "language": "python",
   "name": "python3"
  },
  "language_info": {
   "codemirror_mode": {
    "name": "ipython",
    "version": 3
   },
   "file_extension": ".py",
   "mimetype": "text/x-python",
   "name": "python",
   "nbconvert_exporter": "python",
   "pygments_lexer": "ipython3",
   "version": "3.10.9"
  }
 },
 "nbformat": 4,
 "nbformat_minor": 5
}
