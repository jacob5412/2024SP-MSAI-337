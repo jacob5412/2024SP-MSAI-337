{
 "cells": [
  {
   "cell_type": "markdown",
   "id": "1608669c-eb69-426c-be99-15c9d9812965",
   "metadata": {},
   "source": [
    "# Question 3: Cosine Similarity"
   ]
  },
  {
   "cell_type": "code",
   "execution_count": 1,
   "id": "fa4a4d68-5b42-4fe0-8006-7e0c7f810a15",
   "metadata": {},
   "outputs": [],
   "source": [
    "import time\n",
    "\n",
    "import numpy as np\n",
    "import torch\n",
    "import torch.nn as nn\n",
    "import torch.nn.functional as F\n",
    "import torchtext.data as data\n",
    "from models.attention import MultiHeadAttention\n",
    "from models.embedder import Embedder, FeedForward, Norm, PositionalEncoder, get_clones\n",
    "from transformers import GPT2Tokenizer"
   ]
  },
  {
   "cell_type": "code",
   "execution_count": 2,
   "id": "a01dae61-429f-4f97-bf53-7bd920faa875",
   "metadata": {},
   "outputs": [
    {
     "name": "stdout",
     "output_type": "stream",
     "text": [
      "cuda\n"
     ]
    }
   ],
   "source": [
    "DEVICE = torch.device(\"cuda\" if torch.cuda.is_available() else \"cpu\")\n",
    "print(DEVICE)"
   ]
  },
  {
   "cell_type": "markdown",
   "id": "eadaf4e6-2e1b-4303-9a96-1966004d9ae6",
   "metadata": {},
   "source": [
    "## Cosine Similarity Attention\n",
    "\n",
    "* We're using cosine similarity as our new distance metric:\n",
    "\n",
    "$\\text{Cosim} = \\frac{Q \\cdot K^T}{\\|Q\\|\\cdot\\|K\\|}$\n",
    "\n",
    "* Cosine similarity focuses only on the orientation of the vectors, not their magnitude.\n",
    "* The only major change here is that we're normalizing the vectors to unit length before taking their dot products."
   ]
  },
  {
   "cell_type": "code",
   "execution_count": 3,
   "id": "fa2c2c92-1bb5-42ae-993c-7854fca4460a",
   "metadata": {},
   "outputs": [],
   "source": [
    "def cosine_similarity_attention(q, k, v, d_k, mask=None, dropout=None):\n",
    "    # Calculate norms\n",
    "    q_norm = torch.norm(q, p=2, dim=-1, keepdim=True)  # Norm of queries\n",
    "    k_norm = torch.norm(k, p=2, dim=-1, keepdim=True)  # Norm of keys\n",
    "\n",
    "    dot_product = torch.matmul(q, k.transpose(-2, -1))\n",
    "\n",
    "    # denominator (||q|| * ||k||)\n",
    "    denominator = torch.matmul(q_norm, k_norm.transpose(-2, -1))\n",
    "\n",
    "    # cosine similarity scores\n",
    "    scores = dot_product / denominator\n",
    "\n",
    "    if mask is not None:\n",
    "        mask = mask.unsqueeze(1)\n",
    "        scores = scores.masked_fill(mask == 0, -1e9)\n",
    "\n",
    "    scores = F.softmax(scores, dim=-1)\n",
    "\n",
    "    if dropout is not None:\n",
    "        scores = dropout(scores)\n",
    "\n",
    "    output = torch.matmul(scores, v)\n",
    "    return output"
   ]
  },
  {
   "cell_type": "code",
   "execution_count": 4,
   "id": "4ecb82a3-06b0-49df-92ce-8b0ad93be2a0",
   "metadata": {},
   "outputs": [],
   "source": [
    "class CosineMultiHeadAttention(MultiHeadAttention):\n",
    "    def forward(self, q, k, v, mask=None):\n",
    "        bs = q.size(0)\n",
    "        k = self.k_linear(k).view(bs, -1, self.h, self.d_k)\n",
    "        q = self.q_linear(q).view(bs, -1, self.h, self.d_k)\n",
    "        v = self.v_linear(v).view(bs, -1, self.h, self.d_k)\n",
    "\n",
    "        k = k.transpose(1, 2)\n",
    "        q = q.transpose(1, 2)\n",
    "        v = v.transpose(1, 2)\n",
    "\n",
    "        scores = cosine_similarity_attention(q, k, v, self.d_k, mask, self.dropout)\n",
    "        concat = scores.transpose(1, 2).contiguous().view(bs, -1, self.d_model)\n",
    "        output = self.out(concat)\n",
    "\n",
    "        return output"
   ]
  },
  {
   "cell_type": "markdown",
   "id": "86df5176-9027-4f32-a095-c9cf374eea42",
   "metadata": {},
   "source": [
    "## Decoder\n",
    "\n",
    "We're using `CosineMultiHeadAttention` here."
   ]
  },
  {
   "cell_type": "code",
   "execution_count": 5,
   "id": "5104169e-9892-46e8-a62b-5ef1bab5e20f",
   "metadata": {},
   "outputs": [],
   "source": [
    "class DecoderLayer(nn.Module):\n",
    "    def __init__(self, d_model, heads, dropout=0.1):\n",
    "        super().__init__()\n",
    "        self.norm_1 = Norm(d_model)\n",
    "        self.dropout_1 = nn.Dropout(dropout)\n",
    "        self.attn_1 = CosineMultiHeadAttention(heads, d_model, dropout=dropout)\n",
    "        self.ff = FeedForward(d_model, dropout=dropout)\n",
    "        self.norm_2 = Norm(d_model)\n",
    "        self.dropout_2 = nn.Dropout(dropout)\n",
    "\n",
    "    def forward(self, x, trg_mask):\n",
    "        x2 = self.norm_1(x)\n",
    "        x = x + self.dropout_1(self.attn_1(x2, x2, x2, trg_mask))\n",
    "        x2 = self.norm_2(x)\n",
    "        x = x + self.dropout_2(self.ff(x2))\n",
    "        return x"
   ]
  },
  {
   "cell_type": "code",
   "execution_count": 6,
   "id": "3c29c7b6-9ede-4de2-92bf-01b772a7c045",
   "metadata": {},
   "outputs": [],
   "source": [
    "class Decoder(nn.Module):\n",
    "    def __init__(self, vocab_size, d_model, N, heads, dropout):\n",
    "        super().__init__()\n",
    "        self.embed = Embedder(vocab_size, d_model)\n",
    "        self.pe = PositionalEncoder(d_model, dropout=dropout)\n",
    "        self.layers = get_clones(DecoderLayer(d_model, heads, dropout), N)\n",
    "        self.norm = Norm(d_model)\n",
    "\n",
    "    def forward(self, trg, trg_mask):\n",
    "        x = self.embed(trg)\n",
    "        x = self.pe(x)\n",
    "        for layer in self.layers:\n",
    "            x = layer(x, trg_mask)\n",
    "        return self.norm(x)"
   ]
  },
  {
   "cell_type": "markdown",
   "id": "185e24f7-c328-47a5-b169-c7a6c9310e3e",
   "metadata": {},
   "source": [
    "## Transformer"
   ]
  },
  {
   "cell_type": "code",
   "execution_count": 7,
   "id": "a76eedc1-1510-4165-8dd0-b55df5b7805e",
   "metadata": {},
   "outputs": [],
   "source": [
    "class Transformer(nn.Module):\n",
    "    def __init__(self, vocab_size, d_model, N, heads, dropout, device):\n",
    "        super().__init__()\n",
    "        self.device = device\n",
    "        self.vocab_size = vocab_size\n",
    "        self.decoder = Decoder(vocab_size, d_model, N, heads, dropout)\n",
    "\n",
    "    def forward(self, trg, trg_mask):\n",
    "        d_output = self.decoder(trg, trg_mask)\n",
    "        output = torch.matmul(d_output, self.decoder.embed.embed.weight.t())\n",
    "        return output"
   ]
  },
  {
   "cell_type": "markdown",
   "id": "2e9ab07d-4c13-4869-b51e-45951d93f764",
   "metadata": {},
   "source": [
    "## No-Peak Mask"
   ]
  },
  {
   "cell_type": "code",
   "execution_count": 8,
   "id": "e5209633-9eb5-49bf-bdac-3b1d2fc69593",
   "metadata": {},
   "outputs": [],
   "source": [
    "def nopeak_mask(size, device):\n",
    "    np_mask = ~torch.triu(torch.ones((1, size, size), device=device), diagonal=1).bool()\n",
    "    return np_mask"
   ]
  },
  {
   "cell_type": "markdown",
   "id": "eae92f31-78aa-4ccc-9002-bb588cb0f656",
   "metadata": {},
   "source": [
    "## Data Feeder\n",
    "\n",
    "### Tokenizer"
   ]
  },
  {
   "cell_type": "code",
   "execution_count": 9,
   "id": "39d4a125-4183-4c80-9ea4-65cf66a42a8c",
   "metadata": {},
   "outputs": [],
   "source": [
    "TOKENIZER = GPT2Tokenizer.from_pretrained(\"gpt2\")"
   ]
  },
  {
   "cell_type": "code",
   "execution_count": 10,
   "id": "4f318f68-eacb-48a9-beb0-6574b64b00cc",
   "metadata": {},
   "outputs": [
    {
     "data": {
      "text/plain": [
       "(50257, 50258, 50259)"
      ]
     },
     "execution_count": 10,
     "metadata": {},
     "output_type": "execute_result"
    }
   ],
   "source": [
    "TOKENIZER.add_special_tokens(\n",
    "    {\"pad_token\": \"[PAD]\", \"bos_token\": \"<sos>\", \"eos_token\": \"<eos>\"}\n",
    ")\n",
    "TOKENIZER.pad_token_id, TOKENIZER.bos_token_id, TOKENIZER.eos_token_id"
   ]
  },
  {
   "cell_type": "markdown",
   "id": "50331e86-bb76-4d2f-9af4-99cf1399eb32",
   "metadata": {},
   "source": [
    "### Tokenization"
   ]
  },
  {
   "cell_type": "code",
   "execution_count": 11,
   "id": "64aef928-6bf9-44a9-8f3e-b29fc6900a2c",
   "metadata": {},
   "outputs": [],
   "source": [
    "def load_and_tokenize_file(file_path, tokenizer):\n",
    "    with open(file_path, \"r\", encoding=\"utf-8\") as file:\n",
    "        lines = [line.strip() for line in file if line.strip()]\n",
    "\n",
    "    # Tokenize each line with special tokens and store tokens\n",
    "    all_token_ids = []\n",
    "    for line in lines:\n",
    "        modified_line = f\"<sos> {line} <eos>\"  # Add special tokens\n",
    "        tokens = tokenizer.tokenize(modified_line)\n",
    "        token_ids = tokenizer.convert_tokens_to_ids(tokens)\n",
    "        all_token_ids.extend(token_ids)\n",
    "\n",
    "    return all_token_ids"
   ]
  },
  {
   "cell_type": "markdown",
   "id": "62f14def-278a-4988-8a0a-e310fb573f49",
   "metadata": {},
   "source": [
    "### Batching and Creating Sequences"
   ]
  },
  {
   "cell_type": "code",
   "execution_count": 12,
   "id": "dd89c785-2df0-440a-843f-47fa0102d9a1",
   "metadata": {},
   "outputs": [],
   "source": [
    "class BatchGenerator:\n",
    "    def __init__(self, data, seq_len=512, batch_size=32, pad_token_id=0):\n",
    "        self.data = data\n",
    "        self.seq_len = seq_len\n",
    "        self.batch_size = batch_size\n",
    "        self.pad_token_id = pad_token_id\n",
    "        self.total_data_len = len(data)\n",
    "        self.steps_per_epoch = (\n",
    "            self.total_data_len + self.batch_size * self.seq_len - 1\n",
    "        ) // (self.seq_len * self.batch_size)\n",
    "\n",
    "    def generate(self):\n",
    "        start_index = 0\n",
    "        while True:\n",
    "            # Calculate the end index of the batch\n",
    "            end_index = start_index + self.batch_size * self.seq_len\n",
    "            if end_index > self.total_data_len:\n",
    "                # Handle end of array with padding if not enough data to complete the batch\n",
    "                residual_data = self.data[start_index : self.total_data_len]\n",
    "                padding_needed = end_index - self.total_data_len\n",
    "                padded_data = np.full(padding_needed, self.pad_token_id, dtype=int)\n",
    "                batch_data = np.concatenate((residual_data, padded_data))\n",
    "                start_index = (\n",
    "                    self.total_data_len\n",
    "                )  # Set start_index to total_data_len to end generation\n",
    "            else:\n",
    "                batch_data = self.data[start_index:end_index]\n",
    "                start_index += self.batch_size * self.seq_len\n",
    "\n",
    "            # Reshape batch data to the required dimensions\n",
    "            batch_data = np.array(batch_data).reshape(self.batch_size, self.seq_len)\n",
    "            yield batch_data\n",
    "\n",
    "            if start_index >= self.total_data_len:\n",
    "                break"
   ]
  },
  {
   "cell_type": "markdown",
   "id": "52494baa-1e35-47b1-86d7-02d431a2ae43",
   "metadata": {},
   "source": [
    "## Training"
   ]
  },
  {
   "cell_type": "code",
   "execution_count": 13,
   "id": "16d5ec96-72b8-49d6-976d-4e937fc6fc45",
   "metadata": {},
   "outputs": [],
   "source": [
    "def get_model(vocab_size, d_model=512, N=6, heads=8, dropout=0.1, device=\"cpu\"):\n",
    "    model = Transformer(vocab_size, d_model, N, heads, dropout, device)\n",
    "    model.to(device)\n",
    "    return model"
   ]
  },
  {
   "cell_type": "code",
   "execution_count": 14,
   "id": "38902298-10af-4369-8403-cee5d6e38177",
   "metadata": {},
   "outputs": [],
   "source": [
    "def train_model(\n",
    "    model, train_generator, valid_generator, optimizer, device, epochs, print_every=50\n",
    "):\n",
    "    train_losses = []\n",
    "    train_perplexities = []\n",
    "    valid_losses = []\n",
    "    valid_perplexities = []\n",
    "\n",
    "    for epoch in range(epochs):\n",
    "        # Training Phase\n",
    "        model.train()\n",
    "        total_train_loss = 0\n",
    "        intermediate_train_loss = 0\n",
    "        start = time.time()\n",
    "\n",
    "        # Adjust to use the generator\n",
    "        for i, batch in enumerate(train_generator.generate()):\n",
    "            batch_tensor = torch.tensor(batch).to(device)\n",
    "            no_peak_mask = nopeak_mask(batch_tensor.size(1), device)\n",
    "\n",
    "            # https://github.com/SamLynnEvans/Transformer/blob/master/Batch.py#L20\n",
    "            preds = model(batch_tensor, no_peak_mask)\n",
    "            preds = preds[:, :-1, :]  # Exclude the last time step predictions\n",
    "            ys = (\n",
    "                batch_tensor[:, 1:].contiguous().view(-1)\n",
    "            )  # Targets shifted by one position\n",
    "\n",
    "            optimizer.zero_grad()\n",
    "            loss = F.cross_entropy(\n",
    "                preds.reshape(-1, preds.size(-1)),\n",
    "                ys,\n",
    "                ignore_index=TOKENIZER.pad_token_id,\n",
    "            )\n",
    "            loss.backward()\n",
    "            optimizer.step()\n",
    "\n",
    "            total_train_loss += loss.item()\n",
    "            intermediate_train_loss += loss.item()\n",
    "\n",
    "            if (i + 1) % print_every == 0:\n",
    "                p = int(100 * (i + 1) / train_generator.steps_per_epoch)\n",
    "                avg_loss = intermediate_train_loss / print_every\n",
    "                print(\n",
    "                    f\"{int((time.time() - start) // 60)}m: epoch {epoch + 1} [{p}%] Train loss = {avg_loss:.3f}\",\n",
    "                    end=\"\\r\",\n",
    "                )\n",
    "                intermediate_train_loss = 0\n",
    "\n",
    "            if (i + 1) == train_generator.steps_per_epoch:\n",
    "                break  # Stop after processing all steps per epoch\n",
    "\n",
    "        avg_train_loss = total_train_loss / train_generator.steps_per_epoch\n",
    "        train_perplexity = torch.exp(torch.tensor(avg_train_loss)).item()\n",
    "        train_losses.append(avg_train_loss)\n",
    "        train_perplexities.append(train_perplexity)\n",
    "\n",
    "        # Validation Phase\n",
    "        model.eval()\n",
    "        total_valid_loss = 0\n",
    "        with torch.no_grad():\n",
    "            for i, batch in enumerate(valid_generator.generate()):\n",
    "                batch_tensor = torch.tensor(batch).to(device)\n",
    "                no_peak_mask = nopeak_mask(batch_tensor.size(1), device)\n",
    "\n",
    "                preds = model(batch_tensor, no_peak_mask)\n",
    "                preds = preds[:, :-1, :]\n",
    "                ys = batch_tensor[:, 1:].contiguous().view(-1)\n",
    "\n",
    "                loss = F.cross_entropy(\n",
    "                    preds.reshape(-1, preds.size(-1)),\n",
    "                    ys,\n",
    "                    ignore_index=TOKENIZER.pad_token_id,\n",
    "                )\n",
    "                total_valid_loss += loss.item()\n",
    "\n",
    "                if (i + 1) == valid_generator.steps_per_epoch:\n",
    "                    break  # Stop after processing all steps per epoch\n",
    "\n",
    "        avg_valid_loss = total_valid_loss / valid_generator.steps_per_epoch\n",
    "        valid_perplexity = torch.exp(torch.tensor(avg_valid_loss)).item()\n",
    "        valid_losses.append(avg_valid_loss)\n",
    "        valid_perplexities.append(valid_perplexity)\n",
    "\n",
    "        print(\n",
    "            f\"Epoch {epoch + 1}: Train loss = {avg_train_loss:.3f}, Train Perplexity = {train_perplexity:.3f}\"\n",
    "        )\n",
    "        print(\n",
    "            f\"Epoch {epoch + 1}: Validation loss = {avg_valid_loss:.3f}, Validation Perplexity = {valid_perplexity:.3f}\"\n",
    "        )\n",
    "\n",
    "    return train_losses, train_perplexities, valid_losses, valid_perplexities"
   ]
  },
  {
   "cell_type": "code",
   "execution_count": 15,
   "id": "03b3ad40-8a11-43eb-9742-0c105f1bdaaa",
   "metadata": {},
   "outputs": [],
   "source": [
    "train_tokens = load_and_tokenize_file(\"data/wiki2.train.txt\", TOKENIZER)\n",
    "train_batch_generator = BatchGenerator(\n",
    "    train_tokens, seq_len=512, batch_size=22, pad_token_id=TOKENIZER.pad_token_id\n",
    ")\n",
    "\n",
    "valid_tokens = load_and_tokenize_file(\"data/wiki2.valid.txt\", TOKENIZER)\n",
    "valid_batch_generator = BatchGenerator(\n",
    "    valid_tokens, seq_len=512, batch_size=22, pad_token_id=TOKENIZER.pad_token_id\n",
    ")"
   ]
  },
  {
   "cell_type": "markdown",
   "id": "9aeaf08a-034a-4bd9-a764-762bc85e51de",
   "metadata": {},
   "source": [
    "* We're using the same hyperparameters as earlier as they work well.\n",
    "* We're also limit our training to 10 epochs due to compute."
   ]
  },
  {
   "cell_type": "code",
   "execution_count": 16,
   "id": "5c00081d-96ee-4586-bdab-e00edba8a391",
   "metadata": {},
   "outputs": [],
   "source": [
    "vocab_size = len(TOKENIZER)\n",
    "model = get_model(vocab_size, d_model=512, N=7, heads=8, dropout=0.05, device=DEVICE)\n",
    "optimizer = torch.optim.Adam(model.parameters(), lr=0.001)"
   ]
  },
  {
   "cell_type": "code",
   "execution_count": 17,
   "id": "49eb2310-55a9-4816-aff7-5b8fcdfb2e34",
   "metadata": {},
   "outputs": [
    {
     "name": "stdout",
     "output_type": "stream",
     "text": [
      "Epoch 1: Train loss = 36.656, Train Perplexity = 8306978388443136.000\n",
      "Epoch 1: Validation loss = 8.232, Validation Perplexity = 3760.400\n",
      "Epoch 2: Train loss = 9.014, Train Perplexity = 8221.212\n",
      "Epoch 2: Validation loss = 6.508, Validation Perplexity = 670.694\n",
      "Epoch 3: Train loss = 7.870, Train Perplexity = 2618.417\n",
      "Epoch 3: Validation loss = 6.188, Validation Perplexity = 487.012\n",
      "Epoch 4: Train loss = 7.508, Train Perplexity = 1823.354\n",
      "Epoch 4: Validation loss = 6.068, Validation Perplexity = 431.811\n",
      "Epoch 5: Train loss = 7.325, Train Perplexity = 1517.203\n",
      "Epoch 5: Validation loss = 5.991, Validation Perplexity = 399.806\n",
      "Epoch 6: Train loss = 7.204, Train Perplexity = 1344.198\n",
      "Epoch 6: Validation loss = 5.954, Validation Perplexity = 385.286\n",
      "Epoch 7: Train loss = 7.124, Train Perplexity = 1241.968\n",
      "Epoch 7: Validation loss = 5.915, Validation Perplexity = 370.514\n",
      "Epoch 8: Train loss = 7.017, Train Perplexity = 1115.665\n",
      "Epoch 8: Validation loss = 5.864, Validation Perplexity = 352.269\n",
      "Epoch 9: Train loss = 6.913, Train Perplexity = 1005.315\n",
      "Epoch 9: Validation loss = 5.826, Validation Perplexity = 338.954\n",
      "Epoch 10: Train loss = 6.817, Train Perplexity = 912.900\n",
      "Epoch 10: Validation loss = 5.791, Validation Perplexity = 327.318\n"
     ]
    }
   ],
   "source": [
    "results = train_model(\n",
    "    model, train_batch_generator, valid_batch_generator, optimizer, DEVICE, epochs=10, print_every=50\n",
    ")"
   ]
  },
  {
   "cell_type": "markdown",
   "id": "f6fc2043-59b7-4ca7-a916-55a2abb9c8ee",
   "metadata": {},
   "source": [
    "```python\n",
    "Epoch 1: Train loss = 36.656, Train Perplexity = 8306978388443136.000\n",
    "Epoch 1: Validation loss = 8.232, Validation Perplexity = 3760.400\n",
    "Epoch 2: Train loss = 9.014, Train Perplexity = 8221.212\n",
    "Epoch 2: Validation loss = 6.508, Validation Perplexity = 670.694\n",
    "Epoch 3: Train loss = 7.870, Train Perplexity = 2618.417\n",
    "Epoch 3: Validation loss = 6.188, Validation Perplexity = 487.012\n",
    "Epoch 4: Train loss = 7.508, Train Perplexity = 1823.354\n",
    "Epoch 4: Validation loss = 6.068, Validation Perplexity = 431.811\n",
    "Epoch 5: Train loss = 7.325, Train Perplexity = 1517.203\n",
    "Epoch 5: Validation loss = 5.991, Validation Perplexity = 399.806\n",
    "Epoch 6: Train loss = 7.204, Train Perplexity = 1344.198\n",
    "Epoch 6: Validation loss = 5.954, Validation Perplexity = 385.286\n",
    "Epoch 7: Train loss = 7.124, Train Perplexity = 1241.968\n",
    "Epoch 7: Validation loss = 5.915, Validation Perplexity = 370.514\n",
    "Epoch 8: Train loss = 7.017, Train Perplexity = 1115.665\n",
    "Epoch 8: Validation loss = 5.864, Validation Perplexity = 352.269\n",
    "Epoch 9: Train loss = 6.913, Train Perplexity = 1005.315\n",
    "Epoch 9: Validation loss = 5.826, Validation Perplexity = 338.954\n",
    "Epoch 10: Train loss = 6.817, Train Perplexity = 912.900\n",
    "Epoch 10: Validation loss = 5.791, Validation Perplexity = 327.318\n",
    "```\n",
    "\n",
    "* It's interesting to note that adding the normalization in the cosine distance, marginally slows down the training.\n",
    "* Due to the norm, we had to reduce our batch size to accomodate additional attention weights in our memory. This further slowed down our training.\n",
    "* Furthermore, our perplexities here are poorer than they were for the model using the standard attention."
   ]
  },
  {
   "cell_type": "code",
   "execution_count": 18,
   "id": "df66c211-9238-4f24-b1ae-8225784288e1",
   "metadata": {},
   "outputs": [],
   "source": [
    "train_losses, train_perplexities, valid_losses, valid_perplexities = results"
   ]
  },
  {
   "cell_type": "markdown",
   "id": "d1230dbf-4c60-45e4-98e5-5ee8b15ff35f",
   "metadata": {},
   "source": [
    "### Training Results"
   ]
  },
  {
   "cell_type": "code",
   "execution_count": 19,
   "id": "075a4185-04c1-40d3-b1b8-dd047486178a",
   "metadata": {},
   "outputs": [],
   "source": [
    "import matplotlib.pyplot as plt\n",
    "import pandas as pd\n",
    "import seaborn as sns"
   ]
  },
  {
   "cell_type": "code",
   "execution_count": 20,
   "id": "f3499d23-99ed-413a-9577-28b74e420829",
   "metadata": {},
   "outputs": [],
   "source": [
    "epochs = list(range(1, len(train_losses) + 1))\n",
    "train_data = pd.DataFrame(\n",
    "    {\n",
    "        \"Epoch\": epochs,\n",
    "        \"Train Loss\": train_losses,\n",
    "        \"Train Perplexity\": train_perplexities,\n",
    "    }\n",
    ")\n",
    "\n",
    "valid_data = pd.DataFrame(\n",
    "    {\n",
    "        \"Epoch\": epochs,\n",
    "        \"Validation Loss\": valid_losses,\n",
    "        \"Validation Perplexity\": valid_perplexities,\n",
    "    }\n",
    ")"
   ]
  },
  {
   "cell_type": "code",
   "execution_count": 21,
   "id": "0ce8ccfd-b606-4075-9c69-44802e7eaaeb",
   "metadata": {},
   "outputs": [
    {
     "name": "stderr",
     "output_type": "stream",
     "text": [
      "/home/ubuntu/venv/lib/python3.10/site-packages/seaborn/_oldcore.py:1119: FutureWarning: use_inf_as_na option is deprecated and will be removed in a future version. Convert inf values to NaN before operating instead.\n",
      "  with pd.option_context('mode.use_inf_as_na', True):\n",
      "/home/ubuntu/venv/lib/python3.10/site-packages/seaborn/_oldcore.py:1119: FutureWarning: use_inf_as_na option is deprecated and will be removed in a future version. Convert inf values to NaN before operating instead.\n",
      "  with pd.option_context('mode.use_inf_as_na', True):\n"
     ]
    },
    {
     "data": {
      "image/png": "[encoded data removed]",
      "text/plain": [
       "<Figure size 1200x600 with 1 Axes>"
      ]
     },
     "metadata": {},
     "output_type": "display_data"
    }
   ],
   "source": [
    "plt.figure(figsize=(12, 6))\n",
    "sns.lineplot(data=train_data, x=\"Epoch\", y=\"Train Loss\")\n",
    "plt.title(\"Training Loss Over Epochs\")\n",
    "plt.xlabel(\"Epoch\")\n",
    "plt.ylabel(\"Loss\")\n",
    "plt.grid(True)\n",
    "plt.show()"
   ]
  },
  {
   "cell_type": "code",
   "execution_count": 22,
   "id": "f7845ed3-940e-41fe-9c28-5db33a387bb6",
   "metadata": {},
   "outputs": [
    {
     "name": "stderr",
     "output_type": "stream",
     "text": [
      "/home/ubuntu/venv/lib/python3.10/site-packages/seaborn/_oldcore.py:1119: FutureWarning: use_inf_as_na option is deprecated and will be removed in a future version. Convert inf values to NaN before operating instead.\n",
      "  with pd.option_context('mode.use_inf_as_na', True):\n",
      "/home/ubuntu/venv/lib/python3.10/site-packages/seaborn/_oldcore.py:1119: FutureWarning: use_inf_as_na option is deprecated and will be removed in a future version. Convert inf values to NaN before operating instead.\n",
      "  with pd.option_context('mode.use_inf_as_na', True):\n"
     ]
    },
    {
     "data": {
      "image/png": "[encoded data removed]",
      "text/plain": [
       "<Figure size 1200x600 with 1 Axes>"
      ]
     },
     "metadata": {},
     "output_type": "display_data"
    }
   ],
   "source": [
    "plt.figure(figsize=(12, 6))\n",
    "sns.lineplot(data=valid_data, x=\"Epoch\", y=\"Validation Loss\")\n",
    "plt.title(\"Validation Loss Over Epochs\")\n",
    "plt.xlabel(\"Epoch\")\n",
    "plt.ylabel(\"Loss\")\n",
    "plt.grid(True)\n",
    "plt.show()"
   ]
  },
  {
   "cell_type": "code",
   "execution_count": 23,
   "id": "e70fcd56-fc62-44c6-adad-48c4bedb8ec0",
   "metadata": {},
   "outputs": [
    {
     "name": "stderr",
     "output_type": "stream",
     "text": [
      "/home/ubuntu/venv/lib/python3.10/site-packages/seaborn/_oldcore.py:1119: FutureWarning: use_inf_as_na option is deprecated and will be removed in a future version. Convert inf values to NaN before operating instead.\n",
      "  with pd.option_context('mode.use_inf_as_na', True):\n",
      "/home/ubuntu/venv/lib/python3.10/site-packages/seaborn/_oldcore.py:1119: FutureWarning: use_inf_as_na option is deprecated and will be removed in a future version. Convert inf values to NaN before operating instead.\n",
      "  with pd.option_context('mode.use_inf_as_na', True):\n"
     ]
    },
    {
     "data": {
      "image/png": "[encoded data removed]",
      "text/plain": [
       "<Figure size 1200x600 with 1 Axes>"
      ]
     },
     "metadata": {},
     "output_type": "display_data"
    }
   ],
   "source": [
    "plt.figure(figsize=(12, 6))\n",
    "sns.lineplot(data=train_data, x=\"Epoch\", y=\"Train Perplexity\")\n",
    "plt.title(\"Training Perplexity Over Epochs\")\n",
    "plt.xlabel(\"Epoch\")\n",
    "plt.ylabel(\"Perplexity\")\n",
    "plt.grid(True)\n",
    "plt.show()"
   ]
  },
  {
   "cell_type": "code",
   "execution_count": 24,
   "id": "5bc098b0-620e-4856-952c-a7194143c39d",
   "metadata": {},
   "outputs": [
    {
     "name": "stderr",
     "output_type": "stream",
     "text": [
      "/home/ubuntu/venv/lib/python3.10/site-packages/seaborn/_oldcore.py:1119: FutureWarning: use_inf_as_na option is deprecated and will be removed in a future version. Convert inf values to NaN before operating instead.\n",
      "  with pd.option_context('mode.use_inf_as_na', True):\n",
      "/home/ubuntu/venv/lib/python3.10/site-packages/seaborn/_oldcore.py:1119: FutureWarning: use_inf_as_na option is deprecated and will be removed in a future version. Convert inf values to NaN before operating instead.\n",
      "  with pd.option_context('mode.use_inf_as_na', True):\n"
     ]
    },
    {
     "data": {
      "image/png": "[encoded data removed]",
      "text/plain": [
       "<Figure size 1200x600 with 1 Axes>"
      ]
     },
     "metadata": {},
     "output_type": "display_data"
    }
   ],
   "source": [
    "plt.figure(figsize=(12, 6))\n",
    "sns.lineplot(data=valid_data, x=\"Epoch\", y=\"Validation Perplexity\")\n",
    "plt.title(\"Validation Perplexity Over Epochs\")\n",
    "plt.xlabel(\"Epoch\")\n",
    "plt.ylabel(\"Perplexity\")\n",
    "plt.grid(True)\n",
    "plt.show()"
   ]
  },
  {
   "cell_type": "markdown",
   "id": "f6bb7c93-22e2-498d-97d6-0a9941af4474",
   "metadata": {},
   "source": [
    "## Testing"
   ]
  },
  {
   "cell_type": "code",
   "execution_count": 25,
   "id": "526f4339-2de6-437e-9ea3-54e546426d96",
   "metadata": {},
   "outputs": [],
   "source": [
    "torch.save(model.state_dict(), \"model_wgts/model_weights_q3.pth\")"
   ]
  },
  {
   "cell_type": "code",
   "execution_count": 28,
   "id": "21d68fa8-8ea1-43ac-b832-d6d995b2325b",
   "metadata": {},
   "outputs": [],
   "source": [
    "saved_model = get_model(\n",
    "    vocab_size, d_model=512, N=7, heads=8, dropout=0.1, device=DEVICE\n",
    ")"
   ]
  },
  {
   "cell_type": "code",
   "execution_count": 29,
   "id": "a94eada9-f828-462a-9883-128a4f2b63ae",
   "metadata": {},
   "outputs": [
    {
     "data": {
      "text/plain": [
       "<All keys matched successfully>"
      ]
     },
     "execution_count": 29,
     "metadata": {},
     "output_type": "execute_result"
    }
   ],
   "source": [
    "saved_model.load_state_dict(\n",
    "    torch.load(\"model_wgts/model_weights_q3.pth\", map_location=DEVICE)\n",
    ")"
   ]
  },
  {
   "cell_type": "code",
   "execution_count": 30,
   "id": "3799909c-dea4-413d-a45e-4a325c63915f",
   "metadata": {},
   "outputs": [],
   "source": [
    "test_tokens = load_and_tokenize_file(\"data/wiki2.test.txt\", TOKENIZER)\n",
    "test_batch_generator = BatchGenerator(\n",
    "    train_tokens, seq_len=512, batch_size=25, pad_token_id=TOKENIZER.pad_token_id\n",
    ")"
   ]
  },
  {
   "cell_type": "code",
   "execution_count": 31,
   "id": "e422816b-959f-4d65-8c96-5c5a62d3954b",
   "metadata": {},
   "outputs": [],
   "source": [
    "def test_model(model, generator, device):\n",
    "    model.eval()\n",
    "    total_test_loss = 0\n",
    "    with torch.no_grad():\n",
    "        for i, batch in enumerate(generator.generate()):\n",
    "            batch_tensor = torch.tensor(batch).to(device)\n",
    "            no_peak_mask = nopeak_mask(batch_tensor.size(1), device)\n",
    "\n",
    "            preds = model(batch_tensor, no_peak_mask)\n",
    "            preds = preds[:, :-1, :]\n",
    "            ys = batch_tensor[:, 1:].contiguous().view(-1)\n",
    "\n",
    "            loss = F.cross_entropy(\n",
    "                preds.reshape(-1, preds.size(-1)),\n",
    "                ys,\n",
    "                ignore_index=TOKENIZER.pad_token_id,\n",
    "            )\n",
    "            total_test_loss += loss.item()\n",
    "\n",
    "            if (i + 1) == generator.steps_per_epoch:\n",
    "                break\n",
    "\n",
    "    avg_test_loss = total_test_loss / generator.steps_per_epoch\n",
    "    test_perplexity = torch.exp(torch.tensor(avg_test_loss)).item()\n",
    "\n",
    "    return avg_test_loss, test_perplexity"
   ]
  },
  {
   "cell_type": "code",
   "execution_count": 32,
   "id": "d697f7e5-dec4-499e-abf2-cb225bb8f47e",
   "metadata": {},
   "outputs": [],
   "source": [
    "loss, perplexity = test_model(saved_model, test_batch_generator, DEVICE)"
   ]
  },
  {
   "cell_type": "code",
   "execution_count": 33,
   "id": "a4c501a8-5141-455b-af9e-456e388d2bdc",
   "metadata": {},
   "outputs": [
    {
     "name": "stdout",
     "output_type": "stream",
     "text": [
      "Average Loss: 6.355311053494613\n"
     ]
    }
   ],
   "source": [
    "print(\"Average Loss:\", loss)"
   ]
  },
  {
   "cell_type": "code",
   "execution_count": 34,
   "id": "007584c4-2578-4d64-915c-b48c5aa43064",
   "metadata": {},
   "outputs": [
    {
     "name": "stdout",
     "output_type": "stream",
     "text": [
      "Perplexity: 575.541259765625\n"
     ]
    }
   ],
   "source": [
    "print(\"Perplexity:\", perplexity)"
   ]
  },
  {
   "cell_type": "markdown",
   "id": "71f34ca2-5fdf-444d-9cb7-75279ceaa882",
   "metadata": {},
   "source": [
    "Our perplexity is twice as bad as the model with the dot product attention."
   ]
  },
  {
   "cell_type": "code",
   "execution_count": null,
   "id": "81287ed6-b063-4f83-b165-91677afebb16",
   "metadata": {},
   "outputs": [],
   "source": []
  }
 ],
 "metadata": {
  "kernelspec": {
   "display_name": "Python 3 (ipykernel)",
   "language": "python",
   "name": "python3"
  },
  "language_info": {
   "codemirror_mode": {
    "name": "ipython",
    "version": 3
   },
   "file_extension": ".py",
   "mimetype": "text/x-python",
   "name": "python",
   "nbconvert_exporter": "python",
   "pygments_lexer": "ipython3",
   "version": "3.12.2"
  }
 },
 "nbformat": 4,
 "nbformat_minor": 5
}
