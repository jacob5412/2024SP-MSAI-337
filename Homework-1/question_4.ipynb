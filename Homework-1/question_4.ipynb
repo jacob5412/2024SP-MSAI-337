{
 "cells": [
  {
   "cell_type": "markdown",
   "id": "9064ef59-89f5-4e8b-8a79-0cfc8b5c0303",
   "metadata": {},
   "source": [
    "# Question 4"
   ]
  },
  {
   "cell_type": "code",
   "execution_count": null,
   "id": "6918756d-f8cc-4a78-ad94-dc88f873087a",
   "metadata": {},
   "outputs": [],
   "source": [
    "import math\n",
    "\n",
    "import torch\n",
    "from transformers import GPT2LMHeadModel, GPT2Tokenizer"
   ]
  },
  {
   "cell_type": "markdown",
   "id": "3a915b86-0a5e-403b-abd1-ba1581b6fe85",
   "metadata": {},
   "source": [
    "## Installing from source"
   ]
  },
  {
   "cell_type": "code",
   "execution_count": null,
   "id": "2bba2570-ca5c-49ea-9f5d-954b5865eb9e",
   "metadata": {},
   "outputs": [],
   "source": [
    "# installing hugging face from source\n",
    "# !git clone https://github.com/huggingface/transformers.git\n",
    "# !pip install -e transformers/."
   ]
  },
  {
   "cell_type": "code",
   "execution_count": null,
   "id": "75a6b10a-e82d-46f6-8627-36e6b26847cc",
   "metadata": {},
   "outputs": [],
   "source": [
    "# testing\n",
    "!python -c \"from transformers import pipeline; print(pipeline('sentiment-analysis')('I love you'))\""
   ]
  },
  {
   "cell_type": "markdown",
   "id": "deebc987-7589-4014-9b60-c9afc9bddc12",
   "metadata": {},
   "source": [
    "## Fine-Tuning GPT-2 model"
   ]
  },
  {
   "cell_type": "code",
   "execution_count": null,
   "id": "fafae20a-caf3-49c0-8bc2-dc4f7406819c",
   "metadata": {
    "scrolled": true
   },
   "outputs": [],
   "source": [
    "!python transformers/examples/pytorch/language-modeling/run_clm.py \\\n",
    "    --model_name_or_path openai-community/gpt2 \\\n",
    "    --train_file data/wiki2.train.txt \\\n",
    "    --validation_file data/wiki2.valid.txt \\\n",
    "    --per_device_train_batch_size 8 \\\n",
    "    --per_device_eval_batch_size 8 \\\n",
    "    --do_train \\\n",
    "    --do_eval \\\n",
    "    --output_dir models/"
   ]
  },
  {
   "cell_type": "code",
   "execution_count": null,
   "id": "e29462cb-c3bc-4acc-a8dc-d8891a10e193",
   "metadata": {},
   "outputs": [],
   "source": [
    "tokenizer = GPT2Tokenizer.from_pretrained(\"openai-community/gpt2\")\n",
    "model = GPT2LMHeadModel.from_pretrained(\"openai-community/gpt2\")"
   ]
  },
  {
   "cell_type": "code",
   "execution_count": null,
   "id": "d849e8bd-cf3c-4f34-a056-c61a4673ab26",
   "metadata": {},
   "outputs": [],
   "source": []
  }
 ],
 "metadata": {
  "kernelspec": {
   "display_name": "Python 3 (ipykernel)",
   "language": "python",
   "name": "python3"
  },
  "language_info": {
   "codemirror_mode": {
    "name": "ipython",
    "version": 3
   },
   "file_extension": ".py",
   "mimetype": "text/x-python",
   "name": "python",
   "nbconvert_exporter": "python",
   "pygments_lexer": "ipython3",
   "version": "3.12.2"
  }
 },
 "nbformat": 4,
 "nbformat_minor": 5
}
