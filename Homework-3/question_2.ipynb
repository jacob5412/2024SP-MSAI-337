{
 "cells": [
  {
   "cell_type": "markdown",
   "id": "fbfb4680-06b0-45fd-b69a-f0dd4f46eb43",
   "metadata": {},
   "source": [
    "# Question 2: Generative Model"
   ]
  },
  {
   "cell_type": "code",
   "execution_count": null,
   "id": "3159d677-fcf5-47cd-9e91-27df5754729d",
   "metadata": {},
   "outputs": [],
   "source": [
    "import os\n",
    "import warnings\n",
    "\n",
    "import torch\n",
    "from transformers import AdamW, GPT2LMHeadModel, GPT2Tokenizer\n",
    "from utils.data_loader_gen import MultipleChoiceDataloader, read_file, read_json_data\n",
    "from utils.printing import print_rouge_scores\n",
    "from utils.train_gen import train_loop\n",
    "from utils.valid_gen import valid_loop"
   ]
  },
  {
   "cell_type": "code",
   "execution_count": null,
   "id": "4a2e0c01-da51-4073-ba2b-0c290b08dc20",
   "metadata": {},
   "outputs": [],
   "source": [
    "warnings.filterwarnings(\"ignore\")"
   ]
  },
  {
   "cell_type": "code",
   "execution_count": null,
   "id": "ceb46487-459e-4ece-b2ab-e6848d701d94",
   "metadata": {},
   "outputs": [],
   "source": [
    "NUM_EPOCHS = 3\n",
    "BATCH_SIZE = 50\n",
    "LOG_EVERY = 250\n",
    "TEST_MODE = True"
   ]
  },
  {
   "cell_type": "markdown",
   "id": "dfe706f3-5931-4aee-8dca-50a39e7d51dd",
   "metadata": {},
   "source": [
    "## Dataloader"
   ]
  },
  {
   "cell_type": "code",
   "execution_count": null,
   "id": "72d68023-8517-4ce6-8a0d-4a98d5388966",
   "metadata": {},
   "outputs": [],
   "source": [
    "tokenizer = GPT2Tokenizer.from_pretrained(\"gpt2\")\n",
    "tokenizer.pad_token = tokenizer.eos_token"
   ]
  },
  {
   "cell_type": "code",
   "execution_count": null,
   "id": "cf63ddb1-4358-4c14-ab0c-dbb367530f69",
   "metadata": {},
   "outputs": [],
   "source": [
    "train_file_name = \"data/train_complete.jsonl\"\n",
    "dev_file_name = \"data/dev_complete.jsonl\"\n",
    "test_file_name = \"data/test_complete.jsonl\""
   ]
  },
  {
   "cell_type": "code",
   "execution_count": null,
   "id": "e689cab0-e5e6-469d-8355-3e82c1f8c077",
   "metadata": {},
   "outputs": [],
   "source": [
    "train_json = read_file(train_file_name)\n",
    "dev_json = read_file(dev_file_name)\n",
    "test_json = read_file(test_file_name)"
   ]
  },
  {
   "cell_type": "code",
   "execution_count": null,
   "id": "99e84266-a08d-441d-8266-d29bcdb2905e",
   "metadata": {},
   "outputs": [],
   "source": [
    "train_dataset = read_json_data(train_json)\n",
    "dev_dataset = read_json_data(dev_json, permute=False)\n",
    "test_dataset = read_json_data(test_json, permute=False)"
   ]
  },
  {
   "cell_type": "code",
   "execution_count": null,
   "id": "5473ee23-b7ce-4db6-a91c-7a6cb32dca0e",
   "metadata": {},
   "outputs": [],
   "source": [
    "train_dataloader = MultipleChoiceDataloader(\n",
    "    data=train_dataset, batch_size=BATCH_SIZE, tokenizer=tokenizer\n",
    ")\n",
    "dev_dataloader = MultipleChoiceDataloader(\n",
    "    data=dev_dataset, batch_size=BATCH_SIZE, tokenizer=tokenizer\n",
    ")\n",
    "test_dataloader = MultipleChoiceDataloader(\n",
    "    data=test_dataset, batch_size=BATCH_SIZE, tokenizer=tokenizer\n",
    ")"
   ]
  },
  {
   "cell_type": "markdown",
   "id": "2e4403ba-33a0-42b5-a4a2-7f9c0d845eb5",
   "metadata": {},
   "source": [
    "## Model Training"
   ]
  },
  {
   "cell_type": "code",
   "execution_count": null,
   "id": "c487b0df-883b-461f-a1cf-f9e22302fbd5",
   "metadata": {},
   "outputs": [],
   "source": [
    "device = torch.device(\"cuda\" if torch.cuda.is_available() else \"cpu\")"
   ]
  },
  {
   "cell_type": "code",
   "execution_count": null,
   "id": "dbcd09c3-3172-41b5-8854-8a9437e3f8b9",
   "metadata": {},
   "outputs": [],
   "source": [
    "model = GPT2LMHeadModel.from_pretrained(\"gpt2\").to(device)\n",
    "model.config.dropout_rate = 0.3"
   ]
  },
  {
   "cell_type": "code",
   "execution_count": null,
   "id": "b691e108-fd8c-46a7-b39e-b94fd5548a8a",
   "metadata": {},
   "outputs": [],
   "source": [
    "optimizer = AdamW(model.parameters(), lr=1e-5, weight_decay=0.01)\n",
    "loss_fn = torch.nn.CrossEntropyLoss(reduction='none')"
   ]
  },
  {
   "cell_type": "code",
   "execution_count": null,
   "id": "e75bc3de-b355-4241-81ca-587a25cfb6e5",
   "metadata": {},
   "outputs": [],
   "source": [
    "epoch_train_losses = []\n",
    "epoch_train_rouge_scores = []\n",
    "epoch_valid_rouge_scores = []\n",
    "\n",
    "for epoch in range(NUM_EPOCHS):\n",
    "    print(f\"Epoch {epoch+1}/{NUM_EPOCHS}\")\n",
    "    print(\"Training...\")\n",
    "    train_dataloader.shuffle_data()\n",
    "    train_metrics = train_loop(\n",
    "        train_dataloader,\n",
    "        tokenizer,\n",
    "        model,\n",
    "        loss_fn,\n",
    "        optimizer,\n",
    "        device,\n",
    "        LOG_EVERY,\n",
    "    )\n",
    "    epoch_train_losses.append(train_metrics[0])\n",
    "    epoch_train_rouge_scores.append(train_metrics[1])\n",
    "    print(f\"--Train ROUGE Metrics--\")\n",
    "    print_rouge_scores(train_metrics[1])\n",
    "\n",
    "    print(\"Validating...\")\n",
    "    valid_metrics = valid_loop(dev_dataloader, tokenizer, model, device, LOG_EVERY)\n",
    "    epoch_valid_rouge_scores.append(valid_metrics)\n",
    "    print(f\"--Valid ROUGE Metrics--\")\n",
    "    print_rouge_scores(valid_metrics)"
   ]
  },
  {
   "cell_type": "code",
   "execution_count": null,
   "id": "0c48435f-1ad9-4b8e-b931-2903af1b7c4b",
   "metadata": {},
   "outputs": [],
   "source": [
    "model_save_path = f\"model_weights/model_gen_epoch_{epoch+1}.pth\"\n",
    "torch.save(model.state_dict(), model_save_path)\n",
    "print(f\"Model saved to {model_save_path}\")"
   ]
  },
  {
   "cell_type": "markdown",
   "id": "ec3202ff-23ca-4a42-b23c-40af3f223ae2",
   "metadata": {},
   "source": [
    "Training for additional epochs."
   ]
  },
  {
   "cell_type": "code",
   "execution_count": null,
   "id": "1c845271-009a-4628-8580-6c31ca152f75",
   "metadata": {},
   "outputs": [],
   "source": []
  }
 ],
 "metadata": {
  "kernelspec": {
   "display_name": "Python 3 (ipykernel)",
   "language": "python",
   "name": "python3"
  },
  "language_info": {
   "codemirror_mode": {
    "name": "ipython",
    "version": 3
   },
   "file_extension": ".py",
   "mimetype": "text/x-python",
   "name": "python",
   "nbconvert_exporter": "python",
   "pygments_lexer": "ipython3",
   "version": "3.10.9"
  }
 },
 "nbformat": 4,
 "nbformat_minor": 5
}
